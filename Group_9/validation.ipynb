{
 "cells": [
  {
   "cell_type": "code",
   "execution_count": 1,
   "id": "1d03241c-c0cf-4e66-9363-56af345c66ea",
   "metadata": {},
   "outputs": [],
   "source": [
    "import os,sys\n",
    "import numpy as np\n",
    "import time\n",
    "from rdkit import Chem\n",
    "from rdkit.Chem import AllChem\n",
    "from rdkit.Chem import PeriodicTable\n",
    "from rdkit.Chem import rdPartialCharges\n",
    "from rdkit.Chem import Descriptors\n",
    "import pandas as pd\n",
    "\n",
    "df = pd.read_excel('generated_molecules_layers8_units[16, 16].xlsx') ####LOCATION OF THE EXCEL FILE\n",
    "pse = Chem.GetPeriodicTable()\n",
    "au_to_debye = 2.5412\n",
    "orca_executable_location = '/Applications/orca/orca'  ###JUST INCLUDE THE LOCATION OF THE ORCA EXECUTABLE"
   ]
  },
  {
   "cell_type": "code",
   "execution_count": 2,
   "id": "9ea92c31-377f-494e-89e4-114876e105a9",
   "metadata": {},
   "outputs": [],
   "source": [
    "def calculate_spin_multiplicity(smiles):\n",
    "    mol = Chem.MolFromSmiles(smiles)\n",
    "    \n",
    "    if mol is None:\n",
    "        raise ValueError(\"Invalid SMILES string\")\n",
    "\n",
    "    unpaired_electrons = Descriptors.NumRadicalElectrons(mol)\n",
    "    spin_multiplicity = 2 * (unpaired_electrons / 2) + 1\n",
    "\n",
    "    return int(spin_multiplicity)\n",
    "\n",
    "def get_total_charge(mol):\n",
    "    # Parse the SMILES string into a molecule object\n",
    "\n",
    "    # Calculate the total charge\n",
    "    total_charge = sum([atom.GetFormalCharge() for atom in mol.GetAtoms()])\n",
    "    return total_charge\n",
    "\n",
    "def smiles_to_atoms(smiles):\n",
    "    mol = Chem.MolFromSmiles(smiles)\n",
    "    \n",
    "    if mol is None:\n",
    "        raise ValueError(\"Invalid SMILES string\")\n",
    "\n",
    "    m2 = Chem.AddHs(mol)\n",
    "    AllChem.EmbedMolecule(m2, maxAttempts=5000)\n",
    "    AllChem.UFFOptimizeMolecule(m2, maxIters=5000)\n",
    "    \n",
    "    rdPartialCharges.ComputeGasteigerCharges(m2)\n",
    "    contribs = [x.GetDoubleProp('_GasteigerCharge') for x in m2.GetAtoms()]\n",
    "    charge = sum(contribs)\n",
    "    charge = round(charge)\n",
    "\n",
    "    charge = round(get_total_charge(m2))\n",
    "    atoms = []\n",
    "    positions = []\n",
    "    \n",
    "    for atom in m2.GetAtoms():\n",
    "        atomic_num = atom.GetAtomicNum()\n",
    "        pos = m2.GetConformer().GetAtomPosition(atom.GetIdx())\n",
    "        atoms.append(atomic_num)\n",
    "        positions.append((pos.x, pos.y, pos.z))\n",
    "\n",
    "    return atoms, positions, charge \n"
   ]
  },
  {
   "cell_type": "code",
   "execution_count": 3,
   "id": "9eda1aa0-d3ce-4922-9bec-a87f2be97be6",
   "metadata": {},
   "outputs": [],
   "source": [
    "og_dir = os.getcwd()\n"
   ]
  },
  {
   "cell_type": "code",
   "execution_count": null,
   "id": "a55c1b7b-1245-4812-98d5-64f70ceb0508",
   "metadata": {},
   "outputs": [],
   "source": []
  },
  {
   "cell_type": "code",
   "execution_count": 4,
   "id": "4c12b41d-3db3-40d7-aa24-58d450c80491",
   "metadata": {},
   "outputs": [],
   "source": [
    "def thermo(home_dir, smiles_strings):\n",
    "    dft_method = 'UHF 3-21G'   ### CAN YOU TRY RUNNING XTB \n",
    "    calc_type = ' Opt Freq'\n",
    "    first_line = '! ' + str(dft_method) + calc_type + '\\n'\n",
    "    input_type = 'xyz'\n",
    "    property_strings = ['INNERENERGYU', 'ENTHALPY', 'ENTROPY', 'FREEENERGYG', 'DIPOLEMAGNITUDE', 'ZPE']\n",
    "    dipole = np.zeros(len(smiles_strings), dtype='float32')\n",
    "    zpe = np.zeros(len(smiles_strings), dtype='float32')\n",
    "    int_energy = np.zeros(len(smiles_strings), dtype='float32')\n",
    "    enthalpy= np.zeros(len(smiles_strings), dtype='float32')\n",
    "    entropy= np.zeros(len(smiles_strings), dtype='float32')\n",
    "    free_energy= np.zeros(len(smiles_strings), dtype='float32')\n",
    "    \n",
    "    for i, smile in enumerate(smiles_strings):\n",
    "        temp_smile = smile.split()[0]\n",
    "        atomic_nos, atom_pos, charge = smiles_to_atoms(temp_smile)\n",
    "        spin_mult = calculate_spin_multiplicity(temp_smile)\n",
    "        second_line = '*' + str(input_type) + ' ' + str(charge) + ' ' + str(spin_mult) + '\\n'\n",
    "        input_file_string = str(i)\n",
    "        new_dir = home_dir + '/' + input_file_string\n",
    "        if not os.path.exists(new_dir):\n",
    "            os.makedirs(new_dir)\n",
    "        os.chdir(new_dir)\n",
    "        if os.path.exists(input_file_string + '.xyz'):\n",
    "            opt_file = open(input_file_string + '.xyz', 'r')\n",
    "            xyz_lines = opt_file.readlines()\n",
    "            atom_pos = []\n",
    "            for j in range(2, len(xyz_lines)):\n",
    "                splits = xyz_lines[j].split()\n",
    "                atom_pos.append([float(splits[1]), float(splits[2]), float(splits[3])])\n",
    "            \n",
    "        orca_input = open(input_file_string + '.inp', 'w')\n",
    "        orca_input.write(first_line)\n",
    "        orca_input.write(second_line)\n",
    "        for j in range(len(atomic_nos)):\n",
    "            orca_input.write(str(pse.GetElementSymbol(atomic_nos[j]) + '\\t'))\n",
    "            orca_input.write(str(atom_pos[j][0]) + '\\t' + str(atom_pos[j][1]) + '\\t' + str(atom_pos[j][2]) + '\\t')\n",
    "            orca_input.write('\\n')\n",
    "        orca_input.write('*')\n",
    "        orca_input.close()\n",
    "        os.system(orca_executable_location + ' ' + input_file_string + '.inp > output.log 2>&1')\n",
    "        if os.path.exists(input_file_string + '.property.txt'):\n",
    "\n",
    "            prop_files = open(input_file_string + '.property.txt','r')\n",
    "            prop_lines = prop_files.readlines()\n",
    "\n",
    "        if os.path.exists(input_file_string + '_property.txt'):\n",
    "\n",
    "            prop_files = open(input_file_string + '_property.txt','r')\n",
    "            prop_lines = prop_files.readlines()\n",
    "\n",
    "        for line in prop_lines:\n",
    "            if property_strings[0] in line:\n",
    "                splits = line.split()\n",
    "                int_energy[i] = float(splits[-1])\n",
    "            if property_strings[1] in line:\n",
    "                splits = line.split()\n",
    "                enthalpy[i] = float(splits[-1])\n",
    "            if property_strings[2] in line:\n",
    "                splits = line.split()\n",
    "                entropy[i] = float(splits[-1])\n",
    "            if property_strings[3] in line:\n",
    "                splits = line.split()\n",
    "                free_energy[i] = float(splits[-1])       \n",
    "            if property_strings[4] in line:\n",
    "                splits = line.split()\n",
    "                dipole[i] = float(splits[-1])       \n",
    "            if property_strings[5] in line:\n",
    "                splits = line.split()\n",
    "                zpe[i] = float(splits[-1])       \n",
    "\n",
    "    file = open(home_dir + '/thermodynamic_properties','w')\n",
    "    file.write('SMILES \\t INTERNAL ENERGY \\t ENTHALPY \\t ENTROPY \\t FREE ENERGY \\t DIPOLE MAGNITUDE \\t ZPE \\n') \n",
    "    file.close()\n",
    "    for i in range(len(smiles_strings)):\n",
    "        file = open(home_dir + '/thermodynamic_properties','a')\n",
    "        file.write(smiles_strings[i].rstrip() + '\\t' +  str(int_energy[i]) + '\\t' +  str(enthalpy[i]) + '\\t' +  str(entropy[i]) + '\\t' +  str(free_energy[i]) + '\\t' +  str(dipole[i]) + '\\t' + str(zpe[i]) + '\\n')\n",
    "        file.close()\n"
   ]
  },
  {
   "cell_type": "code",
   "execution_count": null,
   "id": "7d41a1ff-83b1-4b08-83c2-be7ec0286e83",
   "metadata": {},
   "outputs": [],
   "source": []
  },
  {
   "cell_type": "code",
   "execution_count": null,
   "id": "dec46877-48cf-4287-a5a4-6ea94e10a63a",
   "metadata": {},
   "outputs": [],
   "source": []
  },
  {
   "cell_type": "code",
   "execution_count": 5,
   "id": "b113aaa8-2647-4337-97f7-d80c2684b869",
   "metadata": {},
   "outputs": [],
   "source": [
    "home_dir = og_dir + '/' + 'B3LYP_SMILES_1' \n",
    "smiles_strings = df['Generated_SMILES_1']\n",
    "thermo(home_dir, smiles_strings)\n",
    "os.chdir(og_dir)"
   ]
  },
  {
   "cell_type": "code",
   "execution_count": 6,
   "id": "719cc399-3763-4491-bff2-8284547d180a",
   "metadata": {},
   "outputs": [],
   "source": [
    "home_dir = og_dir + '/' + 'B3LYP_SMILES_2' \n",
    "smiles_strings = df['Generated_SMILES_2']\n",
    "thermo(home_dir, smiles_strings) \n",
    "os.chdir(og_dir)"
   ]
  },
  {
   "cell_type": "code",
   "execution_count": 7,
   "id": "0c80be82-1eff-4c44-8896-e7f62fbbc730",
   "metadata": {},
   "outputs": [
    {
     "name": "stderr",
     "output_type": "stream",
     "text": [
      "[02:25:13] UFFTYPER: Warning: hybridization set to SP3 for atom 2\n",
      "[02:25:14] UFFTYPER: Warning: hybridization set to SP3 for atom 2\n"
     ]
    },
    {
     "ename": "ValueError",
     "evalue": "Bad Conformer Id",
     "output_type": "error",
     "traceback": [
      "\u001b[0;31m---------------------------------------------------------------------------\u001b[0m",
      "\u001b[0;31mValueError\u001b[0m                                Traceback (most recent call last)",
      "Cell \u001b[0;32mIn[7], line 3\u001b[0m\n\u001b[1;32m      1\u001b[0m home_dir \u001b[38;5;241m=\u001b[39m og_dir \u001b[38;5;241m+\u001b[39m \u001b[38;5;124m'\u001b[39m\u001b[38;5;124m/\u001b[39m\u001b[38;5;124m'\u001b[39m \u001b[38;5;241m+\u001b[39m \u001b[38;5;124m'\u001b[39m\u001b[38;5;124mGenerated_SMILES_3\u001b[39m\u001b[38;5;124m'\u001b[39m \n\u001b[1;32m      2\u001b[0m smiles_strings \u001b[38;5;241m=\u001b[39m df[\u001b[38;5;124m'\u001b[39m\u001b[38;5;124mGenerated_SMILES_3\u001b[39m\u001b[38;5;124m'\u001b[39m]\n\u001b[0;32m----> 3\u001b[0m \u001b[43mthermo\u001b[49m\u001b[43m(\u001b[49m\u001b[43mhome_dir\u001b[49m\u001b[43m,\u001b[49m\u001b[43m \u001b[49m\u001b[43msmiles_strings\u001b[49m\u001b[43m)\u001b[49m \n\u001b[1;32m      4\u001b[0m os\u001b[38;5;241m.\u001b[39mchdir(og_dir)\n",
      "Cell \u001b[0;32mIn[4], line 16\u001b[0m, in \u001b[0;36mthermo\u001b[0;34m(home_dir, smiles_strings)\u001b[0m\n\u001b[1;32m     14\u001b[0m \u001b[38;5;28;01mfor\u001b[39;00m i, smile \u001b[38;5;129;01min\u001b[39;00m \u001b[38;5;28menumerate\u001b[39m(smiles_strings):\n\u001b[1;32m     15\u001b[0m     temp_smile \u001b[38;5;241m=\u001b[39m smile\u001b[38;5;241m.\u001b[39msplit()[\u001b[38;5;241m0\u001b[39m]\n\u001b[0;32m---> 16\u001b[0m     atomic_nos, atom_pos, charge \u001b[38;5;241m=\u001b[39m \u001b[43msmiles_to_atoms\u001b[49m\u001b[43m(\u001b[49m\u001b[43mtemp_smile\u001b[49m\u001b[43m)\u001b[49m\n\u001b[1;32m     17\u001b[0m     spin_mult \u001b[38;5;241m=\u001b[39m calculate_spin_multiplicity(temp_smile)\n\u001b[1;32m     18\u001b[0m     second_line \u001b[38;5;241m=\u001b[39m \u001b[38;5;124m'\u001b[39m\u001b[38;5;124m*\u001b[39m\u001b[38;5;124m'\u001b[39m \u001b[38;5;241m+\u001b[39m \u001b[38;5;28mstr\u001b[39m(input_type) \u001b[38;5;241m+\u001b[39m \u001b[38;5;124m'\u001b[39m\u001b[38;5;124m \u001b[39m\u001b[38;5;124m'\u001b[39m \u001b[38;5;241m+\u001b[39m \u001b[38;5;28mstr\u001b[39m(charge) \u001b[38;5;241m+\u001b[39m \u001b[38;5;124m'\u001b[39m\u001b[38;5;124m \u001b[39m\u001b[38;5;124m'\u001b[39m \u001b[38;5;241m+\u001b[39m \u001b[38;5;28mstr\u001b[39m(spin_mult) \u001b[38;5;241m+\u001b[39m \u001b[38;5;124m'\u001b[39m\u001b[38;5;130;01m\\n\u001b[39;00m\u001b[38;5;124m'\u001b[39m\n",
      "Cell \u001b[0;32mIn[2], line 27\u001b[0m, in \u001b[0;36msmiles_to_atoms\u001b[0;34m(smiles)\u001b[0m\n\u001b[1;32m     25\u001b[0m m2 \u001b[38;5;241m=\u001b[39m Chem\u001b[38;5;241m.\u001b[39mAddHs(mol)\n\u001b[1;32m     26\u001b[0m AllChem\u001b[38;5;241m.\u001b[39mEmbedMolecule(m2, maxAttempts\u001b[38;5;241m=\u001b[39m\u001b[38;5;241m5000\u001b[39m)\n\u001b[0;32m---> 27\u001b[0m \u001b[43mAllChem\u001b[49m\u001b[38;5;241;43m.\u001b[39;49m\u001b[43mUFFOptimizeMolecule\u001b[49m\u001b[43m(\u001b[49m\u001b[43mm2\u001b[49m\u001b[43m,\u001b[49m\u001b[43m \u001b[49m\u001b[43mmaxIters\u001b[49m\u001b[38;5;241;43m=\u001b[39;49m\u001b[38;5;241;43m5000\u001b[39;49m\u001b[43m)\u001b[49m\n\u001b[1;32m     29\u001b[0m rdPartialCharges\u001b[38;5;241m.\u001b[39mComputeGasteigerCharges(m2)\n\u001b[1;32m     30\u001b[0m contribs \u001b[38;5;241m=\u001b[39m [x\u001b[38;5;241m.\u001b[39mGetDoubleProp(\u001b[38;5;124m'\u001b[39m\u001b[38;5;124m_GasteigerCharge\u001b[39m\u001b[38;5;124m'\u001b[39m) \u001b[38;5;28;01mfor\u001b[39;00m x \u001b[38;5;129;01min\u001b[39;00m m2\u001b[38;5;241m.\u001b[39mGetAtoms()]\n",
      "\u001b[0;31mValueError\u001b[0m: Bad Conformer Id"
     ]
    }
   ],
   "source": [
    "home_dir = og_dir + '/' + 'B3LYP_SMILES_3' \n",
    "smiles_strings = df['Generated_SMILES_3']\n",
    "thermo(home_dir, smiles_strings) \n",
    "os.chdir(og_dir)"
   ]
  },
  {
   "cell_type": "code",
   "execution_count": 6,
   "id": "8f707312-c919-4e35-b8be-1b7ce2b41817",
   "metadata": {},
   "outputs": [],
   "source": [
    "home_dir = og_dir + '/' + 'B3LYP_SMILES_4' \n",
    "smiles_strings = df['Generated_SMILES_4']\n",
    "thermo(home_dir, smiles_strings) \n",
    "os.chdir(og_dir)"
   ]
  },
  {
   "cell_type": "code",
   "execution_count": 7,
   "id": "b7f7caf2-4077-4bed-8a15-59b441ac5b4c",
   "metadata": {},
   "outputs": [],
   "source": [
    "home_dir = og_dir + '/' + 'B3LYP_SMILES_5' \n",
    "smiles_strings = df['Generated_SMILES_5']\n",
    "thermo(home_dir, smiles_strings) \n",
    "os.chdir(og_dir)"
   ]
  },
  {
   "cell_type": "code",
   "execution_count": null,
   "id": "5c02109c-5b8b-42de-b309-9d46a9d62d89",
   "metadata": {},
   "outputs": [],
   "source": []
  }
 ],
 "metadata": {
  "kernelspec": {
   "display_name": "Python 3 (ipykernel)",
   "language": "python",
   "name": "python3"
  },
  "language_info": {
   "codemirror_mode": {
    "name": "ipython",
    "version": 3
   },
   "file_extension": ".py",
   "mimetype": "text/x-python",
   "name": "python",
   "nbconvert_exporter": "python",
   "pygments_lexer": "ipython3",
   "version": "3.12.2"
  }
 },
 "nbformat": 4,
 "nbformat_minor": 5
}
