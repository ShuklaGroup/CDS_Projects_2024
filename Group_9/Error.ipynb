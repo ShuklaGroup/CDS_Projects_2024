{
 "cells": [
  {
   "cell_type": "code",
   "execution_count": 1,
   "id": "0082c291-7256-4d67-8d6e-a1824078bb47",
   "metadata": {},
   "outputs": [],
   "source": [
    "import os,sys\n",
    "import numpy as np\n",
    "import time\n",
    "from rdkit import Chem\n",
    "from rdkit.Chem import AllChem\n",
    "from rdkit.Chem import PeriodicTable\n",
    "from rdkit.Chem import rdPartialCharges\n",
    "from rdkit.Chem import Descriptors\n",
    "import pandas as pd\n",
    "\n",
    "df = pd.read_excel('generated_molecules_layers8_units[16, 16].xlsx') ####LOCATION OF THE EXCEL FILE\n",
    "pse = Chem.GetPeriodicTable()\n"
   ]
  },
  {
   "cell_type": "code",
   "execution_count": 2,
   "id": "3cb9d200-ce58-4049-a46a-e1b5aaf4c0fa",
   "metadata": {},
   "outputs": [
    {
     "name": "stdout",
     "output_type": "stream",
     "text": [
      "                                     Original_SMILES        mu     alpha  \\\n",
      "0  [H]C1([H])O[C@]12C([H])([H])[C@]1([H])C([H])([...  0.199986  0.375006   \n",
      "1        [H]C#CC([H])([H])[C@]1([H])OC([H])([H])C1=O -0.816216 -1.402574   \n",
      "2  [H]ONC1C([H])([H])C([H])([H])C([H])([H])[C@]12... -0.632855  0.668573   \n",
      "\n",
      "       homo      lumo       gap        r2      zpve        cv        u0  ...  \\\n",
      "0  0.282529 -0.915383 -1.055220 -0.035543 -0.536086  0.044669  0.321575  ...   \n",
      "1 -0.000204  0.791031  0.789536 -1.503268 -0.619537 -1.682616  0.344594  ...   \n",
      "2  0.549333  1.577222  1.298640 -0.477336  1.050343 -0.128274  0.264766  ...   \n",
      "\n",
      "             Generated_SMILES_1             Generated_SMILES_2  \\\n",
      "0       [C@@H1]/[C@@]C[NH1+1]\\O                           C[H]   \n",
      "1                        O=C[H]  NS[C@@][NH1]N(F)O[NH1+1][C-1]   \n",
      "2  NC/C\\[C@@][C-1]C(/OCF)/[N+1]                  [H][C@@]=N[H]   \n",
      "\n",
      "    Generated_SMILES_3 Generated_SMILES_4 Generated_SMILES_5  \\\n",
      "0     CC(C)N\\[C@@]ON=C           [NH1][H]    [H]/[C@@][C@]OC   \n",
      "1          [NH1]/[C@]F     C[C@]N\\[C@@]=O  [N-1][N-1][N+1]=O   \n",
      "2  [N+1]1(C)/C[C@@]1NF              CS[H]     CN/N[C+1]C\\[H]   \n",
      "\n",
      "  Similarity_Score_1 Similarity_Score_2 Similarity_Score_3  \\\n",
      "0              0.295              0.000              0.330   \n",
      "1              0.017              0.391              0.086   \n",
      "2              0.471              0.031              0.367   \n",
      "\n",
      "   Similarity_Score_4  Similarity_Score_5  \n",
      "0               0.000               0.164  \n",
      "1               0.203               0.136  \n",
      "2               0.031               0.219  \n",
      "\n",
      "[3 rows x 23 columns]\n"
     ]
    }
   ],
   "source": [
    "home_dir = os.getcwd()\n",
    "print(df)"
   ]
  },
  {
   "cell_type": "code",
   "execution_count": 3,
   "id": "44f2bfd2-7541-4501-9557-4e6f253a4fd5",
   "metadata": {},
   "outputs": [
    {
     "name": "stdout",
     "output_type": "stream",
     "text": [
      "[[-0.53608596 -0.53608596  0.15566656  0.0195607   0.06033339]\n",
      " [ 0.02897266 -0.6195374   0.01786149  0.06935352  0.009795  ]\n",
      " [ 1.0503432   0.02695475  1.0503432   0.04870112  0.12066107]]\n",
      "0.5762490947212896\n",
      "0.6679576735433719\n"
     ]
    }
   ],
   "source": [
    "og_dipole = df['mu']\n",
    "og_zpe = df['zpve']\n",
    "predicted_dipole = np.zeros((3,5), dtype='float32')\n",
    "dipole_mae = 0\n",
    "zpe_mae = 0\n",
    "predicted_zpe = np.zeros((3,5), dtype='float32')\n",
    "count_dipole = 0\n",
    "count_zpe = 0\n",
    "\n",
    "for i in range(1,6):\n",
    "    if os.path.exists(home_dir + '/Generated_SMILES_' + str(i) + '/thermodynamic_properties'):\n",
    "        file = open(home_dir + '/Generated_SMILES_' + str(i) + '/thermodynamic_properties', 'r')\n",
    "        lines = file.readlines()\n",
    "        for j, line in enumerate(lines[1:]):\n",
    "            splits = line.split()\n",
    "            if float(splits[-2]) == 0:\n",
    "                predicted_dipole[j][i-1] = og_dipole[j]\n",
    "            else:\n",
    "                predicted_dipole[j][i-1] = float(splits[-2]) \n",
    "                count_dipole = count_dipole +1\n",
    "                dipole_mae = dipole_mae + np.abs((predicted_dipole[j][i-1] - np.abs(og_dipole[j])))\n",
    "            if float(splits[-1]) == 0:\n",
    "                predicted_zpe[j][i-1] = og_zpe[j]\n",
    "            else:\n",
    "                predicted_zpe[j][i-1] = float(splits[-1])\n",
    "                count_zpe = count_zpe + 1\n",
    "                zpe_mae = zpe_mae + np.abs((predicted_zpe[j][i-1] - np.abs(og_zpe[j])))\n",
    "        file.close()\n",
    "print(predicted_zpe)\n",
    "dipole_mae = dipole_mae/count_dipole\n",
    "print(dipole_mae)\n",
    "zpe_mae = zpe_mae/count_zpe \n",
    "print(zpe_mae)\n",
    "file = open('errors', 'w')\n",
    "file.write('Dipole ' + str(dipole_mae) + '\\n')\n",
    "file.write('ZPE ' + str(zpe_mae) + '\\n')\n",
    "file.close()"
   ]
  },
  {
   "cell_type": "code",
   "execution_count": null,
   "id": "2d6ffe55-1910-4798-b573-2ede58f8a2d4",
   "metadata": {},
   "outputs": [],
   "source": []
  }
 ],
 "metadata": {
  "kernelspec": {
   "display_name": "Python 3 (ipykernel)",
   "language": "python",
   "name": "python3"
  },
  "language_info": {
   "codemirror_mode": {
    "name": "ipython",
    "version": 3
   },
   "file_extension": ".py",
   "mimetype": "text/x-python",
   "name": "python",
   "nbconvert_exporter": "python",
   "pygments_lexer": "ipython3",
   "version": "3.12.2"
  }
 },
 "nbformat": 4,
 "nbformat_minor": 5
}
