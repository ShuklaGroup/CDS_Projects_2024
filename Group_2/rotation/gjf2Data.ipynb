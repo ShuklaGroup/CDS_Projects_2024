{
 "cells": [
  {
   "cell_type": "code",
   "execution_count": 1,
   "metadata": {},
   "outputs": [],
   "source": [
    "import numpy as np\n",
    "import re\n",
    "import pandas as pd\n",
    "import os\n",
    "\n",
    "coord_re = r'\\s*([CHONF])\\s+(-?\\d+\\.\\d+)\\s+(-?\\d+\\.\\d+)\\s+(-?\\d+\\.\\d+)'\n",
    "\n",
    "num_atoms = 9"
   ]
  },
  {
   "cell_type": "code",
   "execution_count": 2,
   "metadata": {},
   "outputs": [],
   "source": [
    "U_worksheet = pd.read_csv('rotation/U0.csv')\n",
    "def get_dihe_U0(name):\n",
    "    U0 = U_worksheet[U_worksheet['Name'] == name]['U0'].values[0]\n",
    "    dihe = U_worksheet[U_worksheet['Name'] == name]['dihedral'].values[0]\n",
    "    return float(U0), float(dihe)"
   ]
  },
  {
   "cell_type": "code",
   "execution_count": 3,
   "metadata": {},
   "outputs": [],
   "source": [
    "def get_element_coord(lines):\n",
    "    elements = []\n",
    "    ele2idx = {'H': 1, 'C': 6, 'N': 7, 'O': 8, 'F':9}\n",
    "    coords = []\n",
    "    for line in lines:\n",
    "        m = re.match(coord_re, line)\n",
    "        if m:\n",
    "            elements.append(ele2idx[m.group(1)])\n",
    "            coords.append([float(m.group(i)) for i in range(2, 5)])\n",
    "    return elements, np.array(coords)"
   ]
  },
  {
   "cell_type": "code",
   "execution_count": 4,
   "metadata": {},
   "outputs": [],
   "source": [
    "root_dir = 'rotation/'\n",
    "\n",
    "elements_list = []\n",
    "coords_list = []\n",
    "U0_list = []\n",
    "dihe_list = []\n",
    "\n",
    "for idx in range(1,38):\n",
    "    bn = 'rotation_std'+str(idx)\n",
    "    filename = os.path.join(root_dir, bn+'.gjf')\n",
    "    with open(filename, \"r\") as f:\n",
    "        lines = f.readlines()\n",
    "        elements, coords = get_element_coord(lines)\n",
    "        # print(len(elements), len(coords))\n",
    "\n",
    "    U0, dihe = get_dihe_U0(bn)\n",
    "    \n",
    "    elements_list = elements_list + elements\n",
    "    coords_list = coords_list + coords.tolist()\n",
    "    U0_list.append(U0)\n",
    "    dihe_list.append(dihe)"
   ]
  },
  {
   "cell_type": "code",
   "execution_count": 5,
   "metadata": {},
   "outputs": [],
   "source": [
    "N_list = [num_atoms] * len(U0_list)\n",
    "\n",
    "N_list = np.array(N_list)\n",
    "elements_list = np.array(elements_list)\n",
    "coords_list = np.array(coords_list)\n",
    "U0_list = np.array(U0_list)\n",
    "dihe_list = np.array(dihe_list)\n",
    "\n",
    "np.savez('rotation.npz', N=N_list, Z=elements_list, R=coords_list, U0=U0_list, D=dihe_list)"
   ]
  }
 ],
 "metadata": {
  "kernelspec": {
   "display_name": "my-rdkit-env",
   "language": "python",
   "name": "python3"
  },
  "language_info": {
   "codemirror_mode": {
    "name": "ipython",
    "version": 3
   },
   "file_extension": ".py",
   "mimetype": "text/x-python",
   "name": "python",
   "nbconvert_exporter": "python",
   "pygments_lexer": "ipython3",
   "version": "3.10.13"
  }
 },
 "nbformat": 4,
 "nbformat_minor": 2
}
