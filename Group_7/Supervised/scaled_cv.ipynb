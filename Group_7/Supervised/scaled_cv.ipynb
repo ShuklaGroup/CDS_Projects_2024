{
 "cells": [
  {
   "cell_type": "code",
   "execution_count": 4,
   "metadata": {},
   "outputs": [
    {
     "ename": "NameError",
     "evalue": "name 'BaseEstimator' is not defined",
     "output_type": "error",
     "traceback": [
      "\u001b[0;31m---------------------------------------------------------------------------\u001b[0m",
      "\u001b[0;31mNameError\u001b[0m                                 Traceback (most recent call last)",
      "Cell \u001b[0;32mIn[4], line 1\u001b[0m\n\u001b[0;32m----> 1\u001b[0m \u001b[38;5;28;01mclass\u001b[39;00m \u001b[38;5;21;01mVIFSelector\u001b[39;00m(\u001b[43mBaseEstimator\u001b[49m, TransformerMixin):\n\u001b[1;32m      2\u001b[0m     \u001b[38;5;28;01mdef\u001b[39;00m \u001b[38;5;21m__init__\u001b[39m(\u001b[38;5;28mself\u001b[39m, threshold\u001b[38;5;241m=\u001b[39m\u001b[38;5;241m5.0\u001b[39m):\n\u001b[1;32m      3\u001b[0m         \u001b[38;5;28mself\u001b[39m\u001b[38;5;241m.\u001b[39mthreshold \u001b[38;5;241m=\u001b[39m threshold\n",
      "\u001b[0;31mNameError\u001b[0m: name 'BaseEstimator' is not defined"
     ]
    }
   ],
   "source": [
    "class VIFSelector(BaseEstimator, TransformerMixin):\n",
    "    def __init__(self, threshold=5.0):\n",
    "        self.threshold = threshold\n",
    "        self.features_to_keep = None\n",
    "        self.feature_names_in_ = None\n",
    "\n",
    "    def fit(self, X, y=None):\n",
    "        # Store feature names from the training data\n",
    "        if isinstance(X, pd.DataFrame):\n",
    "            self.feature_names_in_ = X.columns\n",
    "        else:\n",
    "            self.feature_names_in_ = [f'feature_{i}' for i in range(X.shape[1])]\n",
    "        \n",
    "        # Convert X to DataFrame if it is a NumPy array\n",
    "        if isinstance(X, np.ndarray):\n",
    "            X = pd.DataFrame(X, columns=self.feature_names_in_)\n",
    "        \n",
    "        # Calculate VIF for each feature\n",
    "        vif_data = pd.DataFrame()\n",
    "        vif_data[\"feature\"] = X.columns\n",
    "        vif_data[\"VIF\"] = [sm.OLS(X[col], sm.add_constant(X.drop(columns=[col]))).fit().rsquared for col in X.columns]\n",
    "        vif_data[\"VIF\"] = [1 / (1 - rsq) if rsq < 1 else np.inf for rsq in vif_data[\"VIF\"]]\n",
    "        \n",
    "        # Keep features with VIF below the threshold\n",
    "        self.features_to_keep = vif_data[vif_data[\"VIF\"] < self.threshold][\"feature\"].tolist()\n",
    "        return self\n",
    "\n",
    "    def transform(self, X):\n",
    "        # Convert X to DataFrame if it is a NumPy array\n",
    "        if isinstance(X, np.ndarray):\n",
    "            X = pd.DataFrame(X, columns=self.feature_names_in_)\n",
    "        \n",
    "        # Return DataFrame with only the selected features\n",
    "        return X[self.features_to_keep]\n",
    "\n",
    "    def attrib(self, X):\n",
    "        # Convert X to DataFrame if it is a NumPy array\n",
    "        if isinstance(X, np.ndarray):\n",
    "            X = pd.DataFrame(X, columns=self.feature_names_in_)\n",
    "        \n",
    "        # Return selected features and their VIF values\n",
    "        return {\"features_to_keep\": self.features_to_keep, \"VIF Values\": X[self.features_to_keep]}\n"
   ]
  },
  {
   "cell_type": "code",
   "execution_count": 1,
   "metadata": {},
   "outputs": [
    {
     "ename": "NameError",
     "evalue": "name 'VIFSelector' is not defined",
     "output_type": "error",
     "traceback": [
      "\u001b[0;31m---------------------------------------------------------------------------\u001b[0m",
      "\u001b[0;31mNameError\u001b[0m                                 Traceback (most recent call last)",
      "Cell \u001b[0;32mIn[1], line 27\u001b[0m\n\u001b[1;32m     22\u001b[0m X_train, X_test, y_train, y_test \u001b[38;5;241m=\u001b[39m train_test_split(X, y, test_size\u001b[38;5;241m=\u001b[39m\u001b[38;5;241m0.2\u001b[39m, random_state\u001b[38;5;241m=\u001b[39m\u001b[38;5;241m42\u001b[39m)\n\u001b[1;32m     24\u001b[0m \u001b[38;5;66;03m# Create the pipeline\u001b[39;00m\n\u001b[1;32m     25\u001b[0m pipe \u001b[38;5;241m=\u001b[39m Pipeline([\n\u001b[1;32m     26\u001b[0m     (\u001b[38;5;124m'\u001b[39m\u001b[38;5;124mimputer\u001b[39m\u001b[38;5;124m'\u001b[39m, SimpleImputer(strategy\u001b[38;5;241m=\u001b[39m\u001b[38;5;124m'\u001b[39m\u001b[38;5;124mmean\u001b[39m\u001b[38;5;124m'\u001b[39m)),  \u001b[38;5;66;03m# Impute missing values\u001b[39;00m\n\u001b[0;32m---> 27\u001b[0m     (\u001b[38;5;124m'\u001b[39m\u001b[38;5;124mvif\u001b[39m\u001b[38;5;124m'\u001b[39m, \u001b[43mVIFSelector\u001b[49m()),  \u001b[38;5;66;03m# Apply VIF selector to remove multicollinear features\u001b[39;00m\n\u001b[1;32m     28\u001b[0m     (\u001b[38;5;124m'\u001b[39m\u001b[38;5;124mlr\u001b[39m\u001b[38;5;124m'\u001b[39m, LinearRegression())  \u001b[38;5;66;03m# Linear regression model\u001b[39;00m\n\u001b[1;32m     29\u001b[0m ])\n\u001b[1;32m     31\u001b[0m \u001b[38;5;66;03m# Set up cross-validation (randomly splitting training data for 5-fold CV)\u001b[39;00m\n\u001b[1;32m     32\u001b[0m kf \u001b[38;5;241m=\u001b[39m KFold(n_splits\u001b[38;5;241m=\u001b[39m\u001b[38;5;241m5\u001b[39m, shuffle\u001b[38;5;241m=\u001b[39m\u001b[38;5;28;01mTrue\u001b[39;00m, random_state\u001b[38;5;241m=\u001b[39m\u001b[38;5;241m42\u001b[39m)\n",
      "\u001b[0;31mNameError\u001b[0m: name 'VIFSelector' is not defined"
     ]
    }
   ],
   "source": [
    "import pandas as pd\n",
    "from sklearn.metrics import r2_score, mean_absolute_error\n",
    "from sklearn.pipeline import Pipeline\n",
    "from sklearn.preprocessing import MinMaxScaler\n",
    "from sklearn.linear_model import LinearRegression\n",
    "from sklearn.model_selection import KFold, train_test_split\n",
    "from sklearn.impute import SimpleImputer\n",
    "\n",
    "# Assuming VIFSelector is already defined and imported\n",
    "\n",
    "# Load the dataset\n",
    "df_scaled = pd.read_excel('tri_q4_scaled.xlsx')\n",
    "\n",
    "# Filter for Tri_Q4 subset\n",
    "tri_q4_df = df_scaled[df_scaled['_Alkene_Type'] == 'Tri_Q4']\n",
    "\n",
    "# Prepare features and target\n",
    "X = tri_q4_df.drop(columns=['Rxn ID', 'Reactant ID', 'Catalyst ID', 'ddG', '_Alkene_Type', 'ee', 'Scaled ee', 'Scaled ΔΔG (J/mol)'])\n",
    "y = tri_q4_df['Scaled ΔΔG (J/mol)']\n",
    "\n",
    "# Split the data into training and testing sets (80% train, 20% test) randomly\n",
    "X_train, X_test, y_train, y_test = train_test_split(X, y, test_size=0.2, random_state=42)\n",
    "\n",
    "# Create the pipeline\n",
    "pipe = Pipeline([\n",
    "    ('imputer', SimpleImputer(strategy='mean')),  # Impute missing values\n",
    "    ('vif', VIFSelector()),  # Apply VIF selector to remove multicollinear features\n",
    "    ('lr', LinearRegression())  # Linear regression model\n",
    "])\n",
    "\n",
    "# Set up cross-validation (randomly splitting training data for 5-fold CV)\n",
    "kf = KFold(n_splits=5, shuffle=True, random_state=42)\n",
    "\n",
    "# Perform cross-validation on the training set only (no test set leakage)\n",
    "from sklearn.model_selection import cross_val_score\n",
    "\n",
    "# Evaluate using cross-validation and calculate mean cross-validated R² and MAE\n",
    "cv_r2_scores = cross_val_score(pipe, X_train, y_train, cv=kf, scoring='r2')\n",
    "cv_mae_scores = cross_val_score(pipe, X_train, y_train, cv=kf, scoring='neg_mean_absolute_error')\n",
    "\n",
    "# Now fit the model on the entire training set and predict on the test set\n",
    "pipe.fit(X_train, y_train)\n",
    "y_test_pred = pipe.predict(X_test)\n",
    "\n",
    "# Calculate R² and MAE for the test set\n",
    "test_r2 = r2_score(y_test, y_test_pred)\n",
    "test_mae = mean_absolute_error(y_test, y_test_pred)\n",
    "\n",
    "# Output results\n",
    "print(f\"Mean Cross-validated R² on Training Set: {cv_r2_scores.mean():.4f}\")\n",
    "print(f\"Mean Cross-validated MAE on Training Set: {-cv_mae_scores.mean():.4f}\")  # Negative MAE due to scoring convention\n",
    "print(f\"R² on Test Set: {test_r2:.4f}\")\n",
    "print(f\"MAE on Test Set: {test_mae:.4f}\")\n"
   ]
  }
 ],
 "metadata": {
  "kernelspec": {
   "display_name": "molli-test",
   "language": "python",
   "name": "python3"
  },
  "language_info": {
   "codemirror_mode": {
    "name": "ipython",
    "version": 3
   },
   "file_extension": ".py",
   "mimetype": "text/x-python",
   "name": "python",
   "nbconvert_exporter": "python",
   "pygments_lexer": "ipython3",
   "version": "3.11.9"
  }
 },
 "nbformat": 4,
 "nbformat_minor": 2
}
