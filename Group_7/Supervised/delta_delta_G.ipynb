{
 "cells": [
  {
   "cell_type": "code",
   "execution_count": 11,
   "metadata": {},
   "outputs": [],
   "source": [
    "import math\n",
    "\n",
    "def calculate_enantiomeric_ratio(ee):\n",
    "    \n",
    "    return (1 + ee) / (1 - ee)\n",
    "\n",
    "def calculate_delta_delta_G(ee, temperature):\n",
    "    R = 8.314  # Gas constant \n",
    "    enantiomeric_ratio = calculate_enantiomeric_ratio(ee)\n",
    "    delta_delta_G = -R * temperature * math.log(enantiomeric_ratio)\n",
    "    return delta_delta_G\n",
    "\n",
    "\n"
   ]
  },
  {
   "cell_type": "code",
   "execution_count": 12,
   "metadata": {},
   "outputs": [
    {
     "data": {
      "text/plain": [
       "-3981.5000000000005"
      ]
     },
     "execution_count": 12,
     "metadata": {},
     "output_type": "execute_result"
    }
   ],
   "source": [
    "def eyring_equation(temperature, delta_H_dagger, delta_S_dagger):\n",
    "    k_B = 1.380649e-23  # Boltzmann constant in J/K\n",
    "    h = 6.62607015e-34  # Planck's constant in J·s\n",
    "    R = 8.314  # Gas constant in J/(mol·K)\n",
    "    \n",
    "    # Eyring equation: k = (k_B * T / h) * exp(-ΔH_dagger / (R * T)) * exp(ΔS_dagger / R)\n",
    "    rate_constant = (k_B * temperature / h) * math.exp(-delta_H_dagger / (R * temperature)) * math.exp(delta_S_dagger / R)\n",
    "    \n",
    "    return rate_constant\n",
    "\n",
    "def calculate_delta_delta_G_full(temperature, delta_H_dagger_major, delta_S_dagger_major, delta_H_dagger_minor, delta_S_dagger_minor):\n",
    "    # Calculate the rate constants for both the major and minor enantiomers\n",
    "    k_major = eyring_equation(temperature, delta_H_dagger_major, delta_S_dagger_major)\n",
    "    k_minor = eyring_equation(temperature, delta_H_dagger_minor, delta_S_dagger_minor)\n",
    "    \n",
    "    R = 8.314  # Gas constant in J/(mol·K)\n",
    "    \n",
    "    # Calculate ΔΔG using the rate constant ratio\n",
    "    delta_delta_G = -R * temperature * math.log(k_major / k_minor)\n",
    "    \n",
    "    return delta_delta_G\n",
    "\n",
    "# Example usage\n",
    "delta_H_dagger_major_example = 50000  # Enthalpy of activation for the major enantiomer in J/mol\n",
    "delta_S_dagger_major_example = -100  # Entropy of activation for the major enantiomer in J/(mol·K)\n",
    "delta_H_dagger_minor_example = 51000  # Enthalpy of activation for the minor enantiomer in J/mol\n",
    "delta_S_dagger_minor_example = -110  # Entropy of activation for the minor enantiomer in J/(mol·K)\n",
    "\n",
    "delta_delta_G_result_full = calculate_delta_delta_G_full(temperature_example, delta_H_dagger_major_example, delta_S_dagger_major_example, delta_H_dagger_minor_example, delta_S_dagger_minor_example)\n",
    "delta_delta_G_result_full\n"
   ]
  }
 ],
 "metadata": {
  "kernelspec": {
   "display_name": "molli-test",
   "language": "python",
   "name": "python3"
  },
  "language_info": {
   "codemirror_mode": {
    "name": "ipython",
    "version": 3
   },
   "file_extension": ".py",
   "mimetype": "text/x-python",
   "name": "python",
   "nbconvert_exporter": "python",
   "pygments_lexer": "ipython3",
   "version": "3.11.9"
  }
 },
 "nbformat": 4,
 "nbformat_minor": 2
}
