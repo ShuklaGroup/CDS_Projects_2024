{
 "cells": [
  {
   "cell_type": "code",
   "execution_count": 2,
   "metadata": {},
   "outputs": [
    {
     "name": "stdout",
     "output_type": "stream",
     "text": [
      "%mlib_view 4_DB_OPT_Sterimol.mlib react_1435\n",
      "%mlib_view 4_DB_OPT_Sterimol.mlib react_723\n",
      "%mlib_view 4_DB_OPT_Sterimol.mlib react_854\n",
      "%mlib_view 4_DB_OPT_Sterimol.mlib react_636\n",
      "%mlib_view 4_DB_OPT_Sterimol.mlib react_1330\n",
      "%mlib_view 4_DB_OPT_Sterimol.mlib react_2396\n",
      "%mlib_view 4_DB_OPT_Sterimol.mlib react_1319\n",
      "%mlib_view 4_DB_OPT_Sterimol.mlib react_1046\n",
      "%mlib_view 4_DB_OPT_Sterimol.mlib react_1457\n",
      "%mlib_view 4_DB_OPT_Sterimol.mlib react_656\n"
     ]
    }
   ],
   "source": [
    "import pandas as pd\n",
    "from sklearn.feature_selection import VarianceThreshold\n",
    "from sklearn.decomposition import PCA\n",
    "from sklearn.impute import SimpleImputer\n",
    "from sklearn.preprocessing import MinMaxScaler\n",
    "from sklearn.cluster import KMeans\n",
    "from scipy.spatial.distance import cdist\n",
    "import molli as ml  # Import your molecular library handler\n",
    "\n",
    "# Load the dataset\n",
    "file_path = '/Users/zhangjiayi/Desktop/Chem Research/molli/Practice/machine_learning/reordered_final_merged_cleaned_qqm_molecule_charges.xlsx'\n",
    "mlib_path = '4_DB_OPT_Sterimol.mlib'\n",
    "\n",
    "df_reaction_data = pd.read_excel(file_path)\n",
    "\n",
    "# Preserve the 'Reactant ID' and '_Alkene_Type' for labeling\n",
    "labels = df_reaction_data['Reactant ID']\n",
    "alkene_types = df_reaction_data['_Alkene_Type']\n",
    "\n",
    "# Drop the irrelevant and non-numeric features\n",
    "df = df_reaction_data.drop(columns=['Rxn ID', 'Pressure/atm', 'Temperature/C', 'S/C', 'ddG', '_Alkene_Type', 'Reactant ID', 'Catalyst ID'])\n",
    "\n",
    "# Identify numeric columns\n",
    "numeric_cols = df.select_dtypes(include=['float64', 'int64']).columns\n",
    "\n",
    "# Handle missing values by imputing with the mean\n",
    "imputer = SimpleImputer(strategy='mean')\n",
    "df_imputed = pd.DataFrame(imputer.fit_transform(df[numeric_cols]), columns=numeric_cols)\n",
    "\n",
    "# Initialize the MinMaxScaler\n",
    "scaler = MinMaxScaler()\n",
    "\n",
    "# Fit the scaler on the data\n",
    "scaler.fit(df_imputed)\n",
    "\n",
    "# Transform the data using the fitted scaler\n",
    "df_scaled = pd.DataFrame(scaler.transform(df_imputed), columns=df_imputed.columns)\n",
    "\n",
    "# Apply VarianceThreshold to remove low-variance features\n",
    "selector = VarianceThreshold(threshold=0)\n",
    "df_selected = pd.DataFrame(selector.fit_transform(df_scaled), columns=df_scaled.columns[selector.get_support()])\n",
    "\n",
    "# Apply PCA to the dataset\n",
    "pca = PCA(n_components=2)\n",
    "pca_results = pca.fit_transform(df_selected)\n",
    "\n",
    "# Apply K-means clustering on the PCA results\n",
    "n_clusters = 5  # Number of clusters\n",
    "kmeans = KMeans(n_clusters=n_clusters, random_state=42)\n",
    "cluster_labels = kmeans.fit_predict(pca_results)\n",
    "\n",
    "pca_df = pd.DataFrame(pca_results, columns=['PCA1', 'PCA2'])\n",
    "pca_df['Cluster'] = cluster_labels\n",
    "\n",
    "# Choose a cluster (for example, cluster 3)\n",
    "chosen_cluster = 1\n",
    "cluster_data = df_selected[cluster_labels == chosen_cluster]\n",
    "\n",
    "cluster_data_pca = pca.transform(cluster_data)\n",
    "centroid = kmeans.cluster_centers_[chosen_cluster].reshape(1, -1)\n",
    "distances = cdist(cluster_data_pca, centroid, metric='euclidean')\n",
    "closest_indices = distances.flatten().argsort()[:10]\n",
    "closest_reactant_ids = df_reaction_data.iloc[closest_indices]['Reactant ID'].tolist()\n",
    "\n",
    "ml.visual.configure(bgcolor='white')\n",
    "\n",
    "for reactant_id in closest_reactant_ids:\n",
    "    command = f\"%mlib_view {mlib_path} {reactant_id}\"\n",
    "    print(command)  # Print the command for verification\n"
   ]
  },
  {
   "cell_type": "code",
   "execution_count": 3,
   "metadata": {},
   "outputs": [
    {
     "data": {
      "application/3dmoljs_load.v0": "<div id=\"3dmolviewer_1725584333771741\"  style=\"position: relative; width: 100%; height: 500px;\">\n        <p id=\"3dmolwarning_1725584333771741\" style=\"background-color:#ffcccc;color:black\">3Dmol.js failed to load for some reason.  Please check your browser console for error messages.<br></p>\n        </div>\n<script>\n\nvar loadScriptAsync = function(uri){\n  return new Promise((resolve, reject) => {\n    //this is to ignore the existence of requirejs amd\n    var savedexports, savedmodule;\n    if (typeof exports !== 'undefined') savedexports = exports;\n    else exports = {}\n    if (typeof module !== 'undefined') savedmodule = module;\n    else module = {}\n\n    var tag = document.createElement('script');\n    tag.src = uri;\n    tag.async = true;\n    tag.onload = () => {\n        exports = savedexports;\n        module = savedmodule;\n        resolve();\n    };\n  var firstScriptTag = document.getElementsByTagName('script')[0];\n  firstScriptTag.parentNode.insertBefore(tag, firstScriptTag);\n});\n};\n\nif(typeof $3Dmolpromise === 'undefined') {\n$3Dmolpromise = null;\n  $3Dmolpromise = loadScriptAsync('https://cdnjs.cloudflare.com/ajax/libs/3Dmol/2.2.0/3Dmol-min.js');\n}\n\nvar viewer_1725584333771741 = null;\nvar warn = document.getElementById(\"3dmolwarning_1725584333771741\");\nif(warn) {\n    warn.parentNode.removeChild(warn);\n}\n$3Dmolpromise.then(function() {\nviewer_1725584333771741 = $3Dmol.createViewer(document.getElementById(\"3dmolviewer_1725584333771741\"),{backgroundColor:\"white\"});\nviewer_1725584333771741.zoomTo();\n\tviewer_1725584333771741.addModel(\"@<TRIPOS>MOLECULE\\nreact_1435\\n29 29 0 0 0\\nSMALL\\nNO_CHARGES\\n\\n@<TRIPOS>ATOM\\n1 None -0.1266 -2.3739 -0.6091 H\\n2 None -0.2686 -1.3415 -0.2936 C\\n3 None 0.7658 -0.6163 0.1706 C\\n4 None 2.0808 -1.3283 0.1819 C\\n5 None 2.2646 -2.4218 0.6973 O\\n6 None 2.9736 -0.6257 -0.5646 O\\n7 None 4.2791 -1.1985 -0.5790 C\\n8 None 4.9389 -0.5252 -1.1332 H\\n9 None 4.2646 -2.1667 -1.0890 H\\n10 None 4.6688 -1.3023 0.4388 H\\n11 None 0.6341 0.7026 0.5655 N\\n12 None -0.2784 1.1228 0.4329 H\\n13 None 1.5767 1.4362 1.2583 C\\n14 None 2.6396 1.0077 1.6939 O\\n15 None 1.1495 2.8610 1.5010 C\\n16 None 2.0301 3.5093 1.4798 H\\n17 None 0.6654 2.9300 2.4785 H\\n18 None 0.4570 3.2056 0.7276 H\\n19 None -1.6414 -0.8455 -0.4076 C\\n20 None -2.4905 -0.8599 0.7041 C\\n21 None -2.1487 -1.2646 1.6547 H\\n22 None -3.7887 -0.3582 0.6001 C\\n23 None -4.4486 -0.3759 1.4640 H\\n24 None -4.2413 0.1601 -0.6127 C\\n25 None -5.2543 0.5468 -0.6939 H\\n26 None -3.3980 0.1765 -1.7233 C\\n27 None -3.7537 0.5768 -2.6695 H\\n28 None -2.0991 -0.3248 -1.6222 C\\n29 None -1.4508 -0.3063 -2.4955 H\\n@<TRIPOS>BOND\\n1 2 1 1\\n2 3 2 2\\n3 4 3 1\\n4 4 5 2\\n5 6 4 1\\n6 7 6 1\\n7 7 8 1\\n8 7 9 1\\n9 7 10 1\\n10 3 11 1\\n11 11 12 1\\n12 11 13 am\\n13 13 14 2\\n14 13 15 1\\n15 15 16 1\\n16 15 17 1\\n17 15 18 1\\n18 2 19 1\\n19 19 20 ar\\n20 20 21 1\\n21 20 22 ar\\n22 22 23 1\\n23 22 24 ar\\n24 24 25 1\\n25 24 26 ar\\n26 26 27 1\\n27 26 28 ar\\n28 28 19 ar\\n29 28 29 1\\n\\n\",\"mol2\");\n\tviewer_1725584333771741.setStyle({\"stick\": {\"radius\": 0.1}, \"sphere\": {\"scale\": 0.15}});\n\tviewer_1725584333771741.setHoverable({},true,\"\\n        function(atom,viewer,event,container) {\\n            if(!atom.label) {\\n                atom.label = viewer.addLabel(atom.elem + '(' + atom.index + ')', {position: atom, backgroundColor: 'silver', fontColor:'black'});\\n            }\\n        }\\n        \",\"\\n        function(atom,viewer) { \\n            if(atom.label) {\\n                viewer.removeLabel(atom.label);\\n                delete atom.label;\\n            }\\n        }\\n        \");\n\tviewer_1725584333771741.zoomTo();\n\tviewer_1725584333771741.setBackgroundColor(\"white\");\nviewer_1725584333771741.render();\n});\n</script>",
      "text/html": [
       "<div id=\"3dmolviewer_1725584333771741\"  style=\"position: relative; width: 100%; height: 500px;\">\n",
       "        <p id=\"3dmolwarning_1725584333771741\" style=\"background-color:#ffcccc;color:black\">3Dmol.js failed to load for some reason.  Please check your browser console for error messages.<br></p>\n",
       "        </div>\n",
       "<script>\n",
       "\n",
       "var loadScriptAsync = function(uri){\n",
       "  return new Promise((resolve, reject) => {\n",
       "    //this is to ignore the existence of requirejs amd\n",
       "    var savedexports, savedmodule;\n",
       "    if (typeof exports !== 'undefined') savedexports = exports;\n",
       "    else exports = {}\n",
       "    if (typeof module !== 'undefined') savedmodule = module;\n",
       "    else module = {}\n",
       "\n",
       "    var tag = document.createElement('script');\n",
       "    tag.src = uri;\n",
       "    tag.async = true;\n",
       "    tag.onload = () => {\n",
       "        exports = savedexports;\n",
       "        module = savedmodule;\n",
       "        resolve();\n",
       "    };\n",
       "  var firstScriptTag = document.getElementsByTagName('script')[0];\n",
       "  firstScriptTag.parentNode.insertBefore(tag, firstScriptTag);\n",
       "});\n",
       "};\n",
       "\n",
       "if(typeof $3Dmolpromise === 'undefined') {\n",
       "$3Dmolpromise = null;\n",
       "  $3Dmolpromise = loadScriptAsync('https://cdnjs.cloudflare.com/ajax/libs/3Dmol/2.2.0/3Dmol-min.js');\n",
       "}\n",
       "\n",
       "var viewer_1725584333771741 = null;\n",
       "var warn = document.getElementById(\"3dmolwarning_1725584333771741\");\n",
       "if(warn) {\n",
       "    warn.parentNode.removeChild(warn);\n",
       "}\n",
       "$3Dmolpromise.then(function() {\n",
       "viewer_1725584333771741 = $3Dmol.createViewer(document.getElementById(\"3dmolviewer_1725584333771741\"),{backgroundColor:\"white\"});\n",
       "viewer_1725584333771741.zoomTo();\n",
       "\tviewer_1725584333771741.addModel(\"@<TRIPOS>MOLECULE\\nreact_1435\\n29 29 0 0 0\\nSMALL\\nNO_CHARGES\\n\\n@<TRIPOS>ATOM\\n1 None -0.1266 -2.3739 -0.6091 H\\n2 None -0.2686 -1.3415 -0.2936 C\\n3 None 0.7658 -0.6163 0.1706 C\\n4 None 2.0808 -1.3283 0.1819 C\\n5 None 2.2646 -2.4218 0.6973 O\\n6 None 2.9736 -0.6257 -0.5646 O\\n7 None 4.2791 -1.1985 -0.5790 C\\n8 None 4.9389 -0.5252 -1.1332 H\\n9 None 4.2646 -2.1667 -1.0890 H\\n10 None 4.6688 -1.3023 0.4388 H\\n11 None 0.6341 0.7026 0.5655 N\\n12 None -0.2784 1.1228 0.4329 H\\n13 None 1.5767 1.4362 1.2583 C\\n14 None 2.6396 1.0077 1.6939 O\\n15 None 1.1495 2.8610 1.5010 C\\n16 None 2.0301 3.5093 1.4798 H\\n17 None 0.6654 2.9300 2.4785 H\\n18 None 0.4570 3.2056 0.7276 H\\n19 None -1.6414 -0.8455 -0.4076 C\\n20 None -2.4905 -0.8599 0.7041 C\\n21 None -2.1487 -1.2646 1.6547 H\\n22 None -3.7887 -0.3582 0.6001 C\\n23 None -4.4486 -0.3759 1.4640 H\\n24 None -4.2413 0.1601 -0.6127 C\\n25 None -5.2543 0.5468 -0.6939 H\\n26 None -3.3980 0.1765 -1.7233 C\\n27 None -3.7537 0.5768 -2.6695 H\\n28 None -2.0991 -0.3248 -1.6222 C\\n29 None -1.4508 -0.3063 -2.4955 H\\n@<TRIPOS>BOND\\n1 2 1 1\\n2 3 2 2\\n3 4 3 1\\n4 4 5 2\\n5 6 4 1\\n6 7 6 1\\n7 7 8 1\\n8 7 9 1\\n9 7 10 1\\n10 3 11 1\\n11 11 12 1\\n12 11 13 am\\n13 13 14 2\\n14 13 15 1\\n15 15 16 1\\n16 15 17 1\\n17 15 18 1\\n18 2 19 1\\n19 19 20 ar\\n20 20 21 1\\n21 20 22 ar\\n22 22 23 1\\n23 22 24 ar\\n24 24 25 1\\n25 24 26 ar\\n26 26 27 1\\n27 26 28 ar\\n28 28 19 ar\\n29 28 29 1\\n\\n\",\"mol2\");\n",
       "\tviewer_1725584333771741.setStyle({\"stick\": {\"radius\": 0.1}, \"sphere\": {\"scale\": 0.15}});\n",
       "\tviewer_1725584333771741.setHoverable({},true,\"\\n        function(atom,viewer,event,container) {\\n            if(!atom.label) {\\n                atom.label = viewer.addLabel(atom.elem + '(' + atom.index + ')', {position: atom, backgroundColor: 'silver', fontColor:'black'});\\n            }\\n        }\\n        \",\"\\n        function(atom,viewer) { \\n            if(atom.label) {\\n                viewer.removeLabel(atom.label);\\n                delete atom.label;\\n            }\\n        }\\n        \");\n",
       "\tviewer_1725584333771741.zoomTo();\n",
       "\tviewer_1725584333771741.setBackgroundColor(\"white\");\n",
       "viewer_1725584333771741.render();\n",
       "});\n",
       "</script>"
      ]
     },
     "metadata": {},
     "output_type": "display_data"
    },
    {
     "data": {
      "application/3dmoljs_load.v0": "<script>\n            $3Dmolpromise.then(function() { //wrap in promise for non-interactive functionality\n                \n                viewer_1725584333771741.render();\n            });\n            </script>",
      "text/html": [
       "<script>\n",
       "            $3Dmolpromise.then(function() { //wrap in promise for non-interactive functionality\n",
       "                \n",
       "                viewer_1725584333771741.render();\n",
       "            });\n",
       "            </script>"
      ]
     },
     "metadata": {},
     "output_type": "display_data"
    },
    {
     "data": {
      "application/3dmoljs_load.v0": "<script>\n            $3Dmolpromise.then(function() { //wrap in promise for non-interactive functionality\n                \tviewer_1725584333771741.setStyle({\"stick\": {\"radius\": 0.1}, \"sphere\": {\"scale\": 0.15}});\n\n                viewer_1725584333771741.render();\n            });\n            </script>",
      "text/html": [
       "<script>\n",
       "            $3Dmolpromise.then(function() { //wrap in promise for non-interactive functionality\n",
       "                \tviewer_1725584333771741.setStyle({\"stick\": {\"radius\": 0.1}, \"sphere\": {\"scale\": 0.15}});\n",
       "\n",
       "                viewer_1725584333771741.render();\n",
       "            });\n",
       "            </script>"
      ]
     },
     "metadata": {},
     "output_type": "display_data"
    },
    {
     "data": {
      "application/3dmoljs_load.v0": "<div id=\"3dmolviewer_1725584333799669\"  style=\"position: relative; width: 100%; height: 500px;\">\n        <p id=\"3dmolwarning_1725584333799669\" style=\"background-color:#ffcccc;color:black\">3Dmol.js failed to load for some reason.  Please check your browser console for error messages.<br></p>\n        </div>\n<script>\n\nvar loadScriptAsync = function(uri){\n  return new Promise((resolve, reject) => {\n    //this is to ignore the existence of requirejs amd\n    var savedexports, savedmodule;\n    if (typeof exports !== 'undefined') savedexports = exports;\n    else exports = {}\n    if (typeof module !== 'undefined') savedmodule = module;\n    else module = {}\n\n    var tag = document.createElement('script');\n    tag.src = uri;\n    tag.async = true;\n    tag.onload = () => {\n        exports = savedexports;\n        module = savedmodule;\n        resolve();\n    };\n  var firstScriptTag = document.getElementsByTagName('script')[0];\n  firstScriptTag.parentNode.insertBefore(tag, firstScriptTag);\n});\n};\n\nif(typeof $3Dmolpromise === 'undefined') {\n$3Dmolpromise = null;\n  $3Dmolpromise = loadScriptAsync('https://cdnjs.cloudflare.com/ajax/libs/3Dmol/2.2.0/3Dmol-min.js');\n}\n\nvar viewer_1725584333799669 = null;\nvar warn = document.getElementById(\"3dmolwarning_1725584333799669\");\nif(warn) {\n    warn.parentNode.removeChild(warn);\n}\n$3Dmolpromise.then(function() {\nviewer_1725584333799669 = $3Dmol.createViewer(document.getElementById(\"3dmolviewer_1725584333799669\"),{backgroundColor:\"white\"});\nviewer_1725584333799669.zoomTo();\n\tviewer_1725584333799669.addModel(\"@<TRIPOS>MOLECULE\\nreact_723\\n15 15 0 0 0\\nSMALL\\nNO_CHARGES\\n\\n@<TRIPOS>ATOM\\n1 None 0.2005 -1.9947 -1.2331 H\\n2 None -0.1194 -1.1246 -0.6879 C\\n3 None 0.6051 -0.1574 -0.1159 C\\n4 None 2.0920 -0.0731 -0.1111 C\\n5 None 2.4227 0.8501 -0.5971 H\\n6 None 2.5460 -0.9154 -0.6434 H\\n7 None 2.4705 -0.0804 0.9159 H\\n8 None -0.2090 0.9042 0.5627 C\\n9 None -0.0205 1.8881 0.1198 H\\n10 None 0.0273 0.9588 1.6308 H\\n11 None -1.6599 0.4851 0.3508 C\\n12 None -2.2127 1.2297 -0.2287 H\\n13 None -2.1644 0.2889 1.3009 H\\n14 None -1.5250 -0.7851 -0.4347 C\\n15 None -2.4532 -1.4740 -0.8290 O\\n@<TRIPOS>BOND\\n1 2 1 1\\n2 3 2 2\\n3 4 3 1\\n4 4 5 1\\n5 4 6 1\\n6 4 7 1\\n7 8 3 1\\n8 8 9 1\\n9 8 10 1\\n10 11 8 1\\n11 11 12 1\\n12 11 13 1\\n13 14 11 1\\n14 2 14 1\\n15 14 15 2\\n\\n\",\"mol2\");\n\tviewer_1725584333799669.setStyle({\"stick\": {\"radius\": 0.1}, \"sphere\": {\"scale\": 0.15}});\n\tviewer_1725584333799669.setHoverable({},true,\"\\n        function(atom,viewer,event,container) {\\n            if(!atom.label) {\\n                atom.label = viewer.addLabel(atom.elem + '(' + atom.index + ')', {position: atom, backgroundColor: 'silver', fontColor:'black'});\\n            }\\n        }\\n        \",\"\\n        function(atom,viewer) { \\n            if(atom.label) {\\n                viewer.removeLabel(atom.label);\\n                delete atom.label;\\n            }\\n        }\\n        \");\n\tviewer_1725584333799669.zoomTo();\n\tviewer_1725584333799669.setBackgroundColor(\"white\");\nviewer_1725584333799669.render();\n});\n</script>",
      "text/html": [
       "<div id=\"3dmolviewer_1725584333799669\"  style=\"position: relative; width: 100%; height: 500px;\">\n",
       "        <p id=\"3dmolwarning_1725584333799669\" style=\"background-color:#ffcccc;color:black\">3Dmol.js failed to load for some reason.  Please check your browser console for error messages.<br></p>\n",
       "        </div>\n",
       "<script>\n",
       "\n",
       "var loadScriptAsync = function(uri){\n",
       "  return new Promise((resolve, reject) => {\n",
       "    //this is to ignore the existence of requirejs amd\n",
       "    var savedexports, savedmodule;\n",
       "    if (typeof exports !== 'undefined') savedexports = exports;\n",
       "    else exports = {}\n",
       "    if (typeof module !== 'undefined') savedmodule = module;\n",
       "    else module = {}\n",
       "\n",
       "    var tag = document.createElement('script');\n",
       "    tag.src = uri;\n",
       "    tag.async = true;\n",
       "    tag.onload = () => {\n",
       "        exports = savedexports;\n",
       "        module = savedmodule;\n",
       "        resolve();\n",
       "    };\n",
       "  var firstScriptTag = document.getElementsByTagName('script')[0];\n",
       "  firstScriptTag.parentNode.insertBefore(tag, firstScriptTag);\n",
       "});\n",
       "};\n",
       "\n",
       "if(typeof $3Dmolpromise === 'undefined') {\n",
       "$3Dmolpromise = null;\n",
       "  $3Dmolpromise = loadScriptAsync('https://cdnjs.cloudflare.com/ajax/libs/3Dmol/2.2.0/3Dmol-min.js');\n",
       "}\n",
       "\n",
       "var viewer_1725584333799669 = null;\n",
       "var warn = document.getElementById(\"3dmolwarning_1725584333799669\");\n",
       "if(warn) {\n",
       "    warn.parentNode.removeChild(warn);\n",
       "}\n",
       "$3Dmolpromise.then(function() {\n",
       "viewer_1725584333799669 = $3Dmol.createViewer(document.getElementById(\"3dmolviewer_1725584333799669\"),{backgroundColor:\"white\"});\n",
       "viewer_1725584333799669.zoomTo();\n",
       "\tviewer_1725584333799669.addModel(\"@<TRIPOS>MOLECULE\\nreact_723\\n15 15 0 0 0\\nSMALL\\nNO_CHARGES\\n\\n@<TRIPOS>ATOM\\n1 None 0.2005 -1.9947 -1.2331 H\\n2 None -0.1194 -1.1246 -0.6879 C\\n3 None 0.6051 -0.1574 -0.1159 C\\n4 None 2.0920 -0.0731 -0.1111 C\\n5 None 2.4227 0.8501 -0.5971 H\\n6 None 2.5460 -0.9154 -0.6434 H\\n7 None 2.4705 -0.0804 0.9159 H\\n8 None -0.2090 0.9042 0.5627 C\\n9 None -0.0205 1.8881 0.1198 H\\n10 None 0.0273 0.9588 1.6308 H\\n11 None -1.6599 0.4851 0.3508 C\\n12 None -2.2127 1.2297 -0.2287 H\\n13 None -2.1644 0.2889 1.3009 H\\n14 None -1.5250 -0.7851 -0.4347 C\\n15 None -2.4532 -1.4740 -0.8290 O\\n@<TRIPOS>BOND\\n1 2 1 1\\n2 3 2 2\\n3 4 3 1\\n4 4 5 1\\n5 4 6 1\\n6 4 7 1\\n7 8 3 1\\n8 8 9 1\\n9 8 10 1\\n10 11 8 1\\n11 11 12 1\\n12 11 13 1\\n13 14 11 1\\n14 2 14 1\\n15 14 15 2\\n\\n\",\"mol2\");\n",
       "\tviewer_1725584333799669.setStyle({\"stick\": {\"radius\": 0.1}, \"sphere\": {\"scale\": 0.15}});\n",
       "\tviewer_1725584333799669.setHoverable({},true,\"\\n        function(atom,viewer,event,container) {\\n            if(!atom.label) {\\n                atom.label = viewer.addLabel(atom.elem + '(' + atom.index + ')', {position: atom, backgroundColor: 'silver', fontColor:'black'});\\n            }\\n        }\\n        \",\"\\n        function(atom,viewer) { \\n            if(atom.label) {\\n                viewer.removeLabel(atom.label);\\n                delete atom.label;\\n            }\\n        }\\n        \");\n",
       "\tviewer_1725584333799669.zoomTo();\n",
       "\tviewer_1725584333799669.setBackgroundColor(\"white\");\n",
       "viewer_1725584333799669.render();\n",
       "});\n",
       "</script>"
      ]
     },
     "metadata": {},
     "output_type": "display_data"
    },
    {
     "data": {
      "application/3dmoljs_load.v0": "<script>\n            $3Dmolpromise.then(function() { //wrap in promise for non-interactive functionality\n                \n                viewer_1725584333799669.render();\n            });\n            </script>",
      "text/html": [
       "<script>\n",
       "            $3Dmolpromise.then(function() { //wrap in promise for non-interactive functionality\n",
       "                \n",
       "                viewer_1725584333799669.render();\n",
       "            });\n",
       "            </script>"
      ]
     },
     "metadata": {},
     "output_type": "display_data"
    },
    {
     "data": {
      "application/3dmoljs_load.v0": "<script>\n            $3Dmolpromise.then(function() { //wrap in promise for non-interactive functionality\n                \tviewer_1725584333799669.setStyle({\"stick\": {\"radius\": 0.1}, \"sphere\": {\"scale\": 0.15}});\n\n                viewer_1725584333799669.render();\n            });\n            </script>",
      "text/html": [
       "<script>\n",
       "            $3Dmolpromise.then(function() { //wrap in promise for non-interactive functionality\n",
       "                \tviewer_1725584333799669.setStyle({\"stick\": {\"radius\": 0.1}, \"sphere\": {\"scale\": 0.15}});\n",
       "\n",
       "                viewer_1725584333799669.render();\n",
       "            });\n",
       "            </script>"
      ]
     },
     "metadata": {},
     "output_type": "display_data"
    },
    {
     "data": {
      "application/3dmoljs_load.v0": "<div id=\"3dmolviewer_1725584333863886\"  style=\"position: relative; width: 100%; height: 500px;\">\n        <p id=\"3dmolwarning_1725584333863886\" style=\"background-color:#ffcccc;color:black\">3Dmol.js failed to load for some reason.  Please check your browser console for error messages.<br></p>\n        </div>\n<script>\n\nvar loadScriptAsync = function(uri){\n  return new Promise((resolve, reject) => {\n    //this is to ignore the existence of requirejs amd\n    var savedexports, savedmodule;\n    if (typeof exports !== 'undefined') savedexports = exports;\n    else exports = {}\n    if (typeof module !== 'undefined') savedmodule = module;\n    else module = {}\n\n    var tag = document.createElement('script');\n    tag.src = uri;\n    tag.async = true;\n    tag.onload = () => {\n        exports = savedexports;\n        module = savedmodule;\n        resolve();\n    };\n  var firstScriptTag = document.getElementsByTagName('script')[0];\n  firstScriptTag.parentNode.insertBefore(tag, firstScriptTag);\n});\n};\n\nif(typeof $3Dmolpromise === 'undefined') {\n$3Dmolpromise = null;\n  $3Dmolpromise = loadScriptAsync('https://cdnjs.cloudflare.com/ajax/libs/3Dmol/2.2.0/3Dmol-min.js');\n}\n\nvar viewer_1725584333863886 = null;\nvar warn = document.getElementById(\"3dmolwarning_1725584333863886\");\nif(warn) {\n    warn.parentNode.removeChild(warn);\n}\n$3Dmolpromise.then(function() {\nviewer_1725584333863886 = $3Dmol.createViewer(document.getElementById(\"3dmolviewer_1725584333863886\"),{backgroundColor:\"white\"});\nviewer_1725584333863886.zoomTo();\n\tviewer_1725584333863886.addModel(\"@<TRIPOS>MOLECULE\\nreact_854\\n59 62 0 0 0\\nSMALL\\nNO_CHARGES\\n\\n@<TRIPOS>ATOM\\n1 None -1.3181 -1.3177 -1.8864 H\\n2 None -0.9041 -0.9560 -0.9286 C\\n3 None -1.7320 -0.6647 0.0638 C\\n4 None -3.2681 -0.8640 -0.2315 B\\n5 None -3.8733 -0.4693 -1.5112 O\\n6 None -4.9302 0.3050 -1.1129 C\\n7 None -4.4317 1.6436 -0.6562 C\\n8 None -4.2060 1.6724 0.4234 H\\n9 None -3.5072 1.9602 -1.1782 H\\n10 None -5.2050 2.4054 -0.9394 H\\n11 None -5.9310 0.4913 -2.2295 C\\n12 None -6.8818 0.8724 -1.8632 H\\n13 None -5.5074 1.2846 -2.9030 H\\n14 None -6.0253 -0.4087 -2.8655 H\\n15 None -5.4859 -0.4264 0.0641 C\\n16 None -6.1773 0.4965 1.0465 C\\n17 None -6.2684 1.5315 0.6566 H\\n18 None -7.2061 0.1194 1.2223 H\\n19 None -5.6804 0.5015 2.0415 H\\n20 None -6.3637 -1.5783 -0.2938 C\\n21 None -7.2233 -1.6251 0.4047 H\\n22 None -6.7669 -1.5335 -1.3197 H\\n23 None -5.8393 -2.5684 -0.2121 H\\n24 None -4.3497 -0.9401 0.7251 O\\n25 None -1.2748 -0.2378 1.3243 N\\n26 None -0.4138 -1.0269 2.1521 C\\n27 None 0.1664 -2.1150 1.8576 O\\n28 None -0.2830 -0.4210 3.3915 O\\n29 None -1.0129 0.7709 3.4355 C\\n30 None -1.8193 0.6934 4.1974 H\\n31 None -0.3379 1.5714 3.7736 H\\n32 None -1.5464 0.9787 2.0314 C\\n33 None -2.6571 1.0544 2.1316 H\\n34 None -1.1469 1.8922 1.5893 H\\n35 None 0.5345 -0.8277 -0.8353 C\\n36 None 1.3838 -1.8289 -1.2571 C\\n37 None 0.9243 -2.7321 -1.6282 H\\n38 None 2.7410 -1.7215 -1.2214 C\\n39 None 3.3277 -2.5511 -1.5691 H\\n40 None 3.2820 -0.5374 -0.7328 C\\n41 None 4.6549 -0.4445 -0.7033 O\\n42 None 5.2144 0.7835 -0.2070 C\\n43 None 4.8222 0.9342 0.7971 H\\n44 None 4.9454 1.6165 -0.8992 H\\n45 None 6.6756 0.6074 -0.2725 C\\n46 None 7.3470 0.9583 -1.4173 C\\n47 None 6.8552 1.3733 -2.3015 H\\n48 None 8.7262 0.7739 -1.4482 C\\n49 None 9.2470 1.0447 -2.3335 H\\n50 None 9.3753 0.2492 -0.3397 C\\n51 None 10.4668 0.1270 -0.4266 H\\n52 None 8.6894 -0.0937 0.7912 C\\n53 None 9.2131 -0.4973 1.6347 H\\n54 None 7.3261 0.0865 0.8269 C\\n55 None 6.7882 -0.1915 1.7388 H\\n56 None 2.4498 0.4674 -0.3093 C\\n57 None 2.8786 1.3931 0.0723 H\\n58 None 1.0757 0.3431 -0.3518 C\\n59 None 0.4638 1.1732 -0.0082 H\\n@<TRIPOS>BOND\\n1 2 1 1\\n2 3 2 2\\n3 4 3 1\\n4 5 4 1\\n5 6 5 1\\n6 7 6 1\\n7 7 8 1\\n8 7 9 1\\n9 7 10 1\\n10 6 11 1\\n11 11 12 1\\n12 11 13 1\\n13 11 14 1\\n14 15 6 1\\n15 15 16 1\\n16 16 17 1\\n17 16 18 1\\n18 16 19 1\\n19 15 20 1\\n20 20 21 1\\n21 20 22 1\\n22 20 23 1\\n23 24 15 1\\n24 4 24 1\\n25 3 25 1\\n26 26 25 am\\n27 26 27 2\\n28 28 26 1\\n29 29 28 1\\n30 29 30 1\\n31 29 31 1\\n32 32 29 1\\n33 25 32 1\\n34 32 33 1\\n35 32 34 1\\n36 2 35 1\\n37 35 36 ar\\n38 36 37 1\\n39 36 38 ar\\n40 38 39 1\\n41 38 40 ar\\n42 40 41 1\\n43 41 42 1\\n44 42 43 1\\n45 42 44 1\\n46 42 45 1\\n47 45 46 ar\\n48 46 47 1\\n49 46 48 ar\\n50 48 49 1\\n51 48 50 ar\\n52 50 51 1\\n53 50 52 ar\\n54 52 53 1\\n55 52 54 ar\\n56 54 45 ar\\n57 54 55 1\\n58 40 56 ar\\n59 56 57 1\\n60 56 58 ar\\n61 58 35 ar\\n62 58 59 1\\n\\n\",\"mol2\");\n\tviewer_1725584333863886.setStyle({\"stick\": {\"radius\": 0.1}, \"sphere\": {\"scale\": 0.15}});\n\tviewer_1725584333863886.setHoverable({},true,\"\\n        function(atom,viewer,event,container) {\\n            if(!atom.label) {\\n                atom.label = viewer.addLabel(atom.elem + '(' + atom.index + ')', {position: atom, backgroundColor: 'silver', fontColor:'black'});\\n            }\\n        }\\n        \",\"\\n        function(atom,viewer) { \\n            if(atom.label) {\\n                viewer.removeLabel(atom.label);\\n                delete atom.label;\\n            }\\n        }\\n        \");\n\tviewer_1725584333863886.zoomTo();\n\tviewer_1725584333863886.setBackgroundColor(\"white\");\nviewer_1725584333863886.render();\n});\n</script>",
      "text/html": [
       "<div id=\"3dmolviewer_1725584333863886\"  style=\"position: relative; width: 100%; height: 500px;\">\n",
       "        <p id=\"3dmolwarning_1725584333863886\" style=\"background-color:#ffcccc;color:black\">3Dmol.js failed to load for some reason.  Please check your browser console for error messages.<br></p>\n",
       "        </div>\n",
       "<script>\n",
       "\n",
       "var loadScriptAsync = function(uri){\n",
       "  return new Promise((resolve, reject) => {\n",
       "    //this is to ignore the existence of requirejs amd\n",
       "    var savedexports, savedmodule;\n",
       "    if (typeof exports !== 'undefined') savedexports = exports;\n",
       "    else exports = {}\n",
       "    if (typeof module !== 'undefined') savedmodule = module;\n",
       "    else module = {}\n",
       "\n",
       "    var tag = document.createElement('script');\n",
       "    tag.src = uri;\n",
       "    tag.async = true;\n",
       "    tag.onload = () => {\n",
       "        exports = savedexports;\n",
       "        module = savedmodule;\n",
       "        resolve();\n",
       "    };\n",
       "  var firstScriptTag = document.getElementsByTagName('script')[0];\n",
       "  firstScriptTag.parentNode.insertBefore(tag, firstScriptTag);\n",
       "});\n",
       "};\n",
       "\n",
       "if(typeof $3Dmolpromise === 'undefined') {\n",
       "$3Dmolpromise = null;\n",
       "  $3Dmolpromise = loadScriptAsync('https://cdnjs.cloudflare.com/ajax/libs/3Dmol/2.2.0/3Dmol-min.js');\n",
       "}\n",
       "\n",
       "var viewer_1725584333863886 = null;\n",
       "var warn = document.getElementById(\"3dmolwarning_1725584333863886\");\n",
       "if(warn) {\n",
       "    warn.parentNode.removeChild(warn);\n",
       "}\n",
       "$3Dmolpromise.then(function() {\n",
       "viewer_1725584333863886 = $3Dmol.createViewer(document.getElementById(\"3dmolviewer_1725584333863886\"),{backgroundColor:\"white\"});\n",
       "viewer_1725584333863886.zoomTo();\n",
       "\tviewer_1725584333863886.addModel(\"@<TRIPOS>MOLECULE\\nreact_854\\n59 62 0 0 0\\nSMALL\\nNO_CHARGES\\n\\n@<TRIPOS>ATOM\\n1 None -1.3181 -1.3177 -1.8864 H\\n2 None -0.9041 -0.9560 -0.9286 C\\n3 None -1.7320 -0.6647 0.0638 C\\n4 None -3.2681 -0.8640 -0.2315 B\\n5 None -3.8733 -0.4693 -1.5112 O\\n6 None -4.9302 0.3050 -1.1129 C\\n7 None -4.4317 1.6436 -0.6562 C\\n8 None -4.2060 1.6724 0.4234 H\\n9 None -3.5072 1.9602 -1.1782 H\\n10 None -5.2050 2.4054 -0.9394 H\\n11 None -5.9310 0.4913 -2.2295 C\\n12 None -6.8818 0.8724 -1.8632 H\\n13 None -5.5074 1.2846 -2.9030 H\\n14 None -6.0253 -0.4087 -2.8655 H\\n15 None -5.4859 -0.4264 0.0641 C\\n16 None -6.1773 0.4965 1.0465 C\\n17 None -6.2684 1.5315 0.6566 H\\n18 None -7.2061 0.1194 1.2223 H\\n19 None -5.6804 0.5015 2.0415 H\\n20 None -6.3637 -1.5783 -0.2938 C\\n21 None -7.2233 -1.6251 0.4047 H\\n22 None -6.7669 -1.5335 -1.3197 H\\n23 None -5.8393 -2.5684 -0.2121 H\\n24 None -4.3497 -0.9401 0.7251 O\\n25 None -1.2748 -0.2378 1.3243 N\\n26 None -0.4138 -1.0269 2.1521 C\\n27 None 0.1664 -2.1150 1.8576 O\\n28 None -0.2830 -0.4210 3.3915 O\\n29 None -1.0129 0.7709 3.4355 C\\n30 None -1.8193 0.6934 4.1974 H\\n31 None -0.3379 1.5714 3.7736 H\\n32 None -1.5464 0.9787 2.0314 C\\n33 None -2.6571 1.0544 2.1316 H\\n34 None -1.1469 1.8922 1.5893 H\\n35 None 0.5345 -0.8277 -0.8353 C\\n36 None 1.3838 -1.8289 -1.2571 C\\n37 None 0.9243 -2.7321 -1.6282 H\\n38 None 2.7410 -1.7215 -1.2214 C\\n39 None 3.3277 -2.5511 -1.5691 H\\n40 None 3.2820 -0.5374 -0.7328 C\\n41 None 4.6549 -0.4445 -0.7033 O\\n42 None 5.2144 0.7835 -0.2070 C\\n43 None 4.8222 0.9342 0.7971 H\\n44 None 4.9454 1.6165 -0.8992 H\\n45 None 6.6756 0.6074 -0.2725 C\\n46 None 7.3470 0.9583 -1.4173 C\\n47 None 6.8552 1.3733 -2.3015 H\\n48 None 8.7262 0.7739 -1.4482 C\\n49 None 9.2470 1.0447 -2.3335 H\\n50 None 9.3753 0.2492 -0.3397 C\\n51 None 10.4668 0.1270 -0.4266 H\\n52 None 8.6894 -0.0937 0.7912 C\\n53 None 9.2131 -0.4973 1.6347 H\\n54 None 7.3261 0.0865 0.8269 C\\n55 None 6.7882 -0.1915 1.7388 H\\n56 None 2.4498 0.4674 -0.3093 C\\n57 None 2.8786 1.3931 0.0723 H\\n58 None 1.0757 0.3431 -0.3518 C\\n59 None 0.4638 1.1732 -0.0082 H\\n@<TRIPOS>BOND\\n1 2 1 1\\n2 3 2 2\\n3 4 3 1\\n4 5 4 1\\n5 6 5 1\\n6 7 6 1\\n7 7 8 1\\n8 7 9 1\\n9 7 10 1\\n10 6 11 1\\n11 11 12 1\\n12 11 13 1\\n13 11 14 1\\n14 15 6 1\\n15 15 16 1\\n16 16 17 1\\n17 16 18 1\\n18 16 19 1\\n19 15 20 1\\n20 20 21 1\\n21 20 22 1\\n22 20 23 1\\n23 24 15 1\\n24 4 24 1\\n25 3 25 1\\n26 26 25 am\\n27 26 27 2\\n28 28 26 1\\n29 29 28 1\\n30 29 30 1\\n31 29 31 1\\n32 32 29 1\\n33 25 32 1\\n34 32 33 1\\n35 32 34 1\\n36 2 35 1\\n37 35 36 ar\\n38 36 37 1\\n39 36 38 ar\\n40 38 39 1\\n41 38 40 ar\\n42 40 41 1\\n43 41 42 1\\n44 42 43 1\\n45 42 44 1\\n46 42 45 1\\n47 45 46 ar\\n48 46 47 1\\n49 46 48 ar\\n50 48 49 1\\n51 48 50 ar\\n52 50 51 1\\n53 50 52 ar\\n54 52 53 1\\n55 52 54 ar\\n56 54 45 ar\\n57 54 55 1\\n58 40 56 ar\\n59 56 57 1\\n60 56 58 ar\\n61 58 35 ar\\n62 58 59 1\\n\\n\",\"mol2\");\n",
       "\tviewer_1725584333863886.setStyle({\"stick\": {\"radius\": 0.1}, \"sphere\": {\"scale\": 0.15}});\n",
       "\tviewer_1725584333863886.setHoverable({},true,\"\\n        function(atom,viewer,event,container) {\\n            if(!atom.label) {\\n                atom.label = viewer.addLabel(atom.elem + '(' + atom.index + ')', {position: atom, backgroundColor: 'silver', fontColor:'black'});\\n            }\\n        }\\n        \",\"\\n        function(atom,viewer) { \\n            if(atom.label) {\\n                viewer.removeLabel(atom.label);\\n                delete atom.label;\\n            }\\n        }\\n        \");\n",
       "\tviewer_1725584333863886.zoomTo();\n",
       "\tviewer_1725584333863886.setBackgroundColor(\"white\");\n",
       "viewer_1725584333863886.render();\n",
       "});\n",
       "</script>"
      ]
     },
     "metadata": {},
     "output_type": "display_data"
    },
    {
     "data": {
      "application/3dmoljs_load.v0": "<script>\n            $3Dmolpromise.then(function() { //wrap in promise for non-interactive functionality\n                \n                viewer_1725584333863886.render();\n            });\n            </script>",
      "text/html": [
       "<script>\n",
       "            $3Dmolpromise.then(function() { //wrap in promise for non-interactive functionality\n",
       "                \n",
       "                viewer_1725584333863886.render();\n",
       "            });\n",
       "            </script>"
      ]
     },
     "metadata": {},
     "output_type": "display_data"
    },
    {
     "data": {
      "application/3dmoljs_load.v0": "<script>\n            $3Dmolpromise.then(function() { //wrap in promise for non-interactive functionality\n                \tviewer_1725584333863886.setStyle({\"stick\": {\"radius\": 0.1}, \"sphere\": {\"scale\": 0.15}});\n\n                viewer_1725584333863886.render();\n            });\n            </script>",
      "text/html": [
       "<script>\n",
       "            $3Dmolpromise.then(function() { //wrap in promise for non-interactive functionality\n",
       "                \tviewer_1725584333863886.setStyle({\"stick\": {\"radius\": 0.1}, \"sphere\": {\"scale\": 0.15}});\n",
       "\n",
       "                viewer_1725584333863886.render();\n",
       "            });\n",
       "            </script>"
      ]
     },
     "metadata": {},
     "output_type": "display_data"
    },
    {
     "data": {
      "application/3dmoljs_load.v0": "<div id=\"3dmolviewer_17255843338717299\"  style=\"position: relative; width: 100%; height: 500px;\">\n        <p id=\"3dmolwarning_17255843338717299\" style=\"background-color:#ffcccc;color:black\">3Dmol.js failed to load for some reason.  Please check your browser console for error messages.<br></p>\n        </div>\n<script>\n\nvar loadScriptAsync = function(uri){\n  return new Promise((resolve, reject) => {\n    //this is to ignore the existence of requirejs amd\n    var savedexports, savedmodule;\n    if (typeof exports !== 'undefined') savedexports = exports;\n    else exports = {}\n    if (typeof module !== 'undefined') savedmodule = module;\n    else module = {}\n\n    var tag = document.createElement('script');\n    tag.src = uri;\n    tag.async = true;\n    tag.onload = () => {\n        exports = savedexports;\n        module = savedmodule;\n        resolve();\n    };\n  var firstScriptTag = document.getElementsByTagName('script')[0];\n  firstScriptTag.parentNode.insertBefore(tag, firstScriptTag);\n});\n};\n\nif(typeof $3Dmolpromise === 'undefined') {\n$3Dmolpromise = null;\n  $3Dmolpromise = loadScriptAsync('https://cdnjs.cloudflare.com/ajax/libs/3Dmol/2.2.0/3Dmol-min.js');\n}\n\nvar viewer_17255843338717299 = null;\nvar warn = document.getElementById(\"3dmolwarning_17255843338717299\");\nif(warn) {\n    warn.parentNode.removeChild(warn);\n}\n$3Dmolpromise.then(function() {\nviewer_17255843338717299 = $3Dmol.createViewer(document.getElementById(\"3dmolviewer_17255843338717299\"),{backgroundColor:\"white\"});\nviewer_17255843338717299.zoomTo();\n\tviewer_17255843338717299.addModel(\"@<TRIPOS>MOLECULE\\nreact_636\\n28 28 0 0 0\\nSMALL\\nNO_CHARGES\\n\\n@<TRIPOS>ATOM\\n1 None 0.7705 -1.6937 -0.0714 H\\n2 None -0.0159 -0.9493 -0.1206 C\\n3 None 0.3418 0.4384 0.2978 C\\n4 None -0.5124 1.3104 0.4402 O\\n5 None 1.7703 0.7450 0.5737 C\\n6 None 2.8199 0.1149 -0.1081 C\\n7 None 2.6315 -0.6185 -0.8874 H\\n8 None 4.1458 0.4502 0.1850 C\\n9 None 4.9550 -0.0417 -0.3499 H\\n10 None 4.4211 1.4191 1.1496 C\\n11 None 6.2146 1.8689 1.5409 Br\\n12 None 3.3840 2.0637 1.8206 C\\n13 None 3.5931 2.8265 2.5665 H\\n14 None 2.0590 1.7304 1.5284 C\\n15 None 1.2514 2.2419 2.0499 H\\n16 None -1.2495 -1.3139 -0.5239 C\\n17 None -2.2792 -0.3906 -0.5689 N\\n18 None -2.0327 0.5516 -0.2528 H\\n19 None -3.5882 -0.5905 -0.9663 C\\n20 None -4.0640 -1.6393 -1.3890 O\\n21 None -4.4223 0.6614 -0.8663 C\\n22 None -4.1181 1.2697 -0.0097 H\\n23 None -4.3135 1.2423 -1.7858 H\\n24 None -5.4722 0.3867 -0.7303 H\\n25 None -1.5232 -2.7393 -0.9261 C\\n26 None -0.6318 -3.3693 -0.8288 H\\n27 None -2.2964 -3.1813 -0.2892 H\\n28 None -1.8387 -2.7937 -1.9731 H\\n@<TRIPOS>BOND\\n1 2 1 1\\n2 2 3 1\\n3 3 4 2\\n4 3 5 1\\n5 5 6 ar\\n6 6 7 1\\n7 6 8 ar\\n8 8 9 1\\n9 8 10 ar\\n10 10 11 1\\n11 10 12 ar\\n12 12 13 1\\n13 12 14 ar\\n14 14 5 ar\\n15 14 15 1\\n16 16 2 2\\n17 17 16 1\\n18 17 18 1\\n19 19 17 am\\n20 19 20 2\\n21 21 19 1\\n22 21 22 1\\n23 21 23 1\\n24 21 24 1\\n25 16 25 1\\n26 25 26 1\\n27 25 27 1\\n28 25 28 1\\n\\n\",\"mol2\");\n\tviewer_17255843338717299.setStyle({\"stick\": {\"radius\": 0.1}, \"sphere\": {\"scale\": 0.15}});\n\tviewer_17255843338717299.setHoverable({},true,\"\\n        function(atom,viewer,event,container) {\\n            if(!atom.label) {\\n                atom.label = viewer.addLabel(atom.elem + '(' + atom.index + ')', {position: atom, backgroundColor: 'silver', fontColor:'black'});\\n            }\\n        }\\n        \",\"\\n        function(atom,viewer) { \\n            if(atom.label) {\\n                viewer.removeLabel(atom.label);\\n                delete atom.label;\\n            }\\n        }\\n        \");\n\tviewer_17255843338717299.zoomTo();\n\tviewer_17255843338717299.setBackgroundColor(\"white\");\nviewer_17255843338717299.render();\n});\n</script>",
      "text/html": [
       "<div id=\"3dmolviewer_17255843338717299\"  style=\"position: relative; width: 100%; height: 500px;\">\n",
       "        <p id=\"3dmolwarning_17255843338717299\" style=\"background-color:#ffcccc;color:black\">3Dmol.js failed to load for some reason.  Please check your browser console for error messages.<br></p>\n",
       "        </div>\n",
       "<script>\n",
       "\n",
       "var loadScriptAsync = function(uri){\n",
       "  return new Promise((resolve, reject) => {\n",
       "    //this is to ignore the existence of requirejs amd\n",
       "    var savedexports, savedmodule;\n",
       "    if (typeof exports !== 'undefined') savedexports = exports;\n",
       "    else exports = {}\n",
       "    if (typeof module !== 'undefined') savedmodule = module;\n",
       "    else module = {}\n",
       "\n",
       "    var tag = document.createElement('script');\n",
       "    tag.src = uri;\n",
       "    tag.async = true;\n",
       "    tag.onload = () => {\n",
       "        exports = savedexports;\n",
       "        module = savedmodule;\n",
       "        resolve();\n",
       "    };\n",
       "  var firstScriptTag = document.getElementsByTagName('script')[0];\n",
       "  firstScriptTag.parentNode.insertBefore(tag, firstScriptTag);\n",
       "});\n",
       "};\n",
       "\n",
       "if(typeof $3Dmolpromise === 'undefined') {\n",
       "$3Dmolpromise = null;\n",
       "  $3Dmolpromise = loadScriptAsync('https://cdnjs.cloudflare.com/ajax/libs/3Dmol/2.2.0/3Dmol-min.js');\n",
       "}\n",
       "\n",
       "var viewer_17255843338717299 = null;\n",
       "var warn = document.getElementById(\"3dmolwarning_17255843338717299\");\n",
       "if(warn) {\n",
       "    warn.parentNode.removeChild(warn);\n",
       "}\n",
       "$3Dmolpromise.then(function() {\n",
       "viewer_17255843338717299 = $3Dmol.createViewer(document.getElementById(\"3dmolviewer_17255843338717299\"),{backgroundColor:\"white\"});\n",
       "viewer_17255843338717299.zoomTo();\n",
       "\tviewer_17255843338717299.addModel(\"@<TRIPOS>MOLECULE\\nreact_636\\n28 28 0 0 0\\nSMALL\\nNO_CHARGES\\n\\n@<TRIPOS>ATOM\\n1 None 0.7705 -1.6937 -0.0714 H\\n2 None -0.0159 -0.9493 -0.1206 C\\n3 None 0.3418 0.4384 0.2978 C\\n4 None -0.5124 1.3104 0.4402 O\\n5 None 1.7703 0.7450 0.5737 C\\n6 None 2.8199 0.1149 -0.1081 C\\n7 None 2.6315 -0.6185 -0.8874 H\\n8 None 4.1458 0.4502 0.1850 C\\n9 None 4.9550 -0.0417 -0.3499 H\\n10 None 4.4211 1.4191 1.1496 C\\n11 None 6.2146 1.8689 1.5409 Br\\n12 None 3.3840 2.0637 1.8206 C\\n13 None 3.5931 2.8265 2.5665 H\\n14 None 2.0590 1.7304 1.5284 C\\n15 None 1.2514 2.2419 2.0499 H\\n16 None -1.2495 -1.3139 -0.5239 C\\n17 None -2.2792 -0.3906 -0.5689 N\\n18 None -2.0327 0.5516 -0.2528 H\\n19 None -3.5882 -0.5905 -0.9663 C\\n20 None -4.0640 -1.6393 -1.3890 O\\n21 None -4.4223 0.6614 -0.8663 C\\n22 None -4.1181 1.2697 -0.0097 H\\n23 None -4.3135 1.2423 -1.7858 H\\n24 None -5.4722 0.3867 -0.7303 H\\n25 None -1.5232 -2.7393 -0.9261 C\\n26 None -0.6318 -3.3693 -0.8288 H\\n27 None -2.2964 -3.1813 -0.2892 H\\n28 None -1.8387 -2.7937 -1.9731 H\\n@<TRIPOS>BOND\\n1 2 1 1\\n2 2 3 1\\n3 3 4 2\\n4 3 5 1\\n5 5 6 ar\\n6 6 7 1\\n7 6 8 ar\\n8 8 9 1\\n9 8 10 ar\\n10 10 11 1\\n11 10 12 ar\\n12 12 13 1\\n13 12 14 ar\\n14 14 5 ar\\n15 14 15 1\\n16 16 2 2\\n17 17 16 1\\n18 17 18 1\\n19 19 17 am\\n20 19 20 2\\n21 21 19 1\\n22 21 22 1\\n23 21 23 1\\n24 21 24 1\\n25 16 25 1\\n26 25 26 1\\n27 25 27 1\\n28 25 28 1\\n\\n\",\"mol2\");\n",
       "\tviewer_17255843338717299.setStyle({\"stick\": {\"radius\": 0.1}, \"sphere\": {\"scale\": 0.15}});\n",
       "\tviewer_17255843338717299.setHoverable({},true,\"\\n        function(atom,viewer,event,container) {\\n            if(!atom.label) {\\n                atom.label = viewer.addLabel(atom.elem + '(' + atom.index + ')', {position: atom, backgroundColor: 'silver', fontColor:'black'});\\n            }\\n        }\\n        \",\"\\n        function(atom,viewer) { \\n            if(atom.label) {\\n                viewer.removeLabel(atom.label);\\n                delete atom.label;\\n            }\\n        }\\n        \");\n",
       "\tviewer_17255843338717299.zoomTo();\n",
       "\tviewer_17255843338717299.setBackgroundColor(\"white\");\n",
       "viewer_17255843338717299.render();\n",
       "});\n",
       "</script>"
      ]
     },
     "metadata": {},
     "output_type": "display_data"
    },
    {
     "data": {
      "application/3dmoljs_load.v0": "<script>\n            $3Dmolpromise.then(function() { //wrap in promise for non-interactive functionality\n                \n                viewer_17255843338717299.render();\n            });\n            </script>",
      "text/html": [
       "<script>\n",
       "            $3Dmolpromise.then(function() { //wrap in promise for non-interactive functionality\n",
       "                \n",
       "                viewer_17255843338717299.render();\n",
       "            });\n",
       "            </script>"
      ]
     },
     "metadata": {},
     "output_type": "display_data"
    },
    {
     "data": {
      "application/3dmoljs_load.v0": "<script>\n            $3Dmolpromise.then(function() { //wrap in promise for non-interactive functionality\n                \tviewer_17255843338717299.setStyle({\"stick\": {\"radius\": 0.1}, \"sphere\": {\"scale\": 0.15}});\n\n                viewer_17255843338717299.render();\n            });\n            </script>",
      "text/html": [
       "<script>\n",
       "            $3Dmolpromise.then(function() { //wrap in promise for non-interactive functionality\n",
       "                \tviewer_17255843338717299.setStyle({\"stick\": {\"radius\": 0.1}, \"sphere\": {\"scale\": 0.15}});\n",
       "\n",
       "                viewer_17255843338717299.render();\n",
       "            });\n",
       "            </script>"
      ]
     },
     "metadata": {},
     "output_type": "display_data"
    },
    {
     "data": {
      "application/3dmoljs_load.v0": "<div id=\"3dmolviewer_17255843338980942\"  style=\"position: relative; width: 100%; height: 500px;\">\n        <p id=\"3dmolwarning_17255843338980942\" style=\"background-color:#ffcccc;color:black\">3Dmol.js failed to load for some reason.  Please check your browser console for error messages.<br></p>\n        </div>\n<script>\n\nvar loadScriptAsync = function(uri){\n  return new Promise((resolve, reject) => {\n    //this is to ignore the existence of requirejs amd\n    var savedexports, savedmodule;\n    if (typeof exports !== 'undefined') savedexports = exports;\n    else exports = {}\n    if (typeof module !== 'undefined') savedmodule = module;\n    else module = {}\n\n    var tag = document.createElement('script');\n    tag.src = uri;\n    tag.async = true;\n    tag.onload = () => {\n        exports = savedexports;\n        module = savedmodule;\n        resolve();\n    };\n  var firstScriptTag = document.getElementsByTagName('script')[0];\n  firstScriptTag.parentNode.insertBefore(tag, firstScriptTag);\n});\n};\n\nif(typeof $3Dmolpromise === 'undefined') {\n$3Dmolpromise = null;\n  $3Dmolpromise = loadScriptAsync('https://cdnjs.cloudflare.com/ajax/libs/3Dmol/2.2.0/3Dmol-min.js');\n}\n\nvar viewer_17255843338980942 = null;\nvar warn = document.getElementById(\"3dmolwarning_17255843338980942\");\nif(warn) {\n    warn.parentNode.removeChild(warn);\n}\n$3Dmolpromise.then(function() {\nviewer_17255843338980942 = $3Dmol.createViewer(document.getElementById(\"3dmolviewer_17255843338980942\"),{backgroundColor:\"white\"});\nviewer_17255843338980942.zoomTo();\n\tviewer_17255843338980942.addModel(\"@<TRIPOS>MOLECULE\\nreact_1330\\n57 59 0 0 0\\nSMALL\\nNO_CHARGES\\n\\n@<TRIPOS>ATOM\\n1 None -0.3888 0.6940 1.4743 H\\n2 None 0.1828 0.2505 0.6274 C\\n3 None -0.5852 -0.2660 -0.3044 C\\n4 None -2.1520 -0.2222 -0.1652 B\\n5 None -2.8996 -0.2092 1.0897 O\\n6 None -4.1631 0.2410 0.7220 C\\n7 None -5.1733 -0.7136 1.3531 C\\n8 None -4.9934 -0.6218 2.4630 H\\n9 None -6.2126 -0.4449 1.0989 H\\n10 None -4.9108 -1.7572 1.0982 H\\n11 None -4.3685 1.5915 1.3629 C\\n12 None -5.4474 1.7591 1.4859 H\\n13 None -3.8648 2.3453 0.7130 H\\n14 None -3.8092 1.6153 2.3398 H\\n15 None -4.2313 0.2622 -0.7652 C\\n16 None -4.0995 1.6372 -1.3639 C\\n17 None -4.1399 1.5044 -2.4761 H\\n18 None -4.9042 2.3312 -1.0417 H\\n19 None -3.0783 2.0179 -1.1422 H\\n20 None -5.5443 -0.3334 -1.2233 C\\n21 None -6.3475 0.3080 -0.8275 H\\n22 None -5.6180 -0.3589 -2.3238 H\\n23 None -5.6503 -1.3312 -0.7741 H\\n24 None -3.1429 -0.4870 -1.2016 O\\n25 None -0.0454 -0.8895 -1.4603 N\\n26 None 0.8204 -0.3660 -2.4527 C\\n27 None 0.8870 0.8496 -2.7920 O\\n28 None 1.5312 -1.4604 -2.9258 O\\n29 None 0.8474 -2.6485 -2.6756 C\\n30 None 1.4171 -3.3946 -2.0701 H\\n31 None 0.5386 -3.1664 -3.6233 H\\n32 None -0.3414 -2.2483 -1.8505 C\\n33 None -0.5095 -2.9209 -0.9885 H\\n34 None -1.2743 -2.1698 -2.4835 H\\n35 None 1.6213 0.2773 0.6225 C\\n36 None 2.4276 -0.7450 0.1922 C\\n37 None 2.0016 -1.6848 -0.1923 H\\n38 None 3.8093 -0.6229 0.2314 C\\n39 None 4.6176 -1.6574 -0.2035 O\\n40 None 4.0729 -2.8451 -0.6920 C\\n41 None 4.8359 -3.6626 -0.7640 H\\n42 None 3.6516 -2.7457 -1.7112 H\\n43 None 3.2785 -3.2084 -0.0232 H\\n44 None 4.4007 0.5587 0.7161 C\\n45 None 5.7864 0.6228 0.7312 O\\n46 None 6.5370 0.1886 1.8685 C\\n47 None 6.2428 0.7209 2.7882 H\\n48 None 7.5929 0.3818 1.6446 H\\n49 None 6.4254 -0.9255 1.9940 H\\n50 None 3.5875 1.5751 1.1438 C\\n51 None 4.2194 2.7264 1.6155 O\\n52 None 3.3838 3.7809 2.0596 C\\n53 None 2.6620 3.4078 2.8299 H\\n54 None 2.7474 4.1215 1.2047 H\\n55 None 3.9321 4.6216 2.4972 H\\n56 None 2.2177 1.4490 1.1029 C\\n57 None 1.6195 2.2679 1.4473 H\\n@<TRIPOS>BOND\\n1 2 1 1\\n2 2 3 2\\n3 3 4 1\\n4 4 5 1\\n5 5 6 1\\n6 6 7 1\\n7 7 8 1\\n8 7 9 1\\n9 7 10 1\\n10 6 11 1\\n11 11 12 1\\n12 11 13 1\\n13 11 14 1\\n14 6 15 1\\n15 15 16 1\\n16 16 17 1\\n17 16 18 1\\n18 16 19 1\\n19 15 20 1\\n20 20 21 1\\n21 20 22 1\\n22 20 23 1\\n23 15 24 1\\n24 24 4 1\\n25 3 25 1\\n26 26 25 am\\n27 26 27 2\\n28 28 26 1\\n29 29 28 1\\n30 29 30 1\\n31 29 31 1\\n32 32 29 1\\n33 25 32 1\\n34 32 33 1\\n35 32 34 1\\n36 35 2 1\\n37 36 35 ar\\n38 36 37 1\\n39 38 36 ar\\n40 39 38 1\\n41 40 39 1\\n42 40 41 1\\n43 40 42 1\\n44 40 43 1\\n45 44 38 ar\\n46 44 45 1\\n47 45 46 1\\n48 46 47 1\\n49 46 48 1\\n50 46 49 1\\n51 50 44 ar\\n52 50 51 1\\n53 51 52 1\\n54 52 53 1\\n55 52 54 1\\n56 52 55 1\\n57 56 50 ar\\n58 35 56 ar\\n59 56 57 1\\n\\n\",\"mol2\");\n\tviewer_17255843338980942.setStyle({\"stick\": {\"radius\": 0.1}, \"sphere\": {\"scale\": 0.15}});\n\tviewer_17255843338980942.setHoverable({},true,\"\\n        function(atom,viewer,event,container) {\\n            if(!atom.label) {\\n                atom.label = viewer.addLabel(atom.elem + '(' + atom.index + ')', {position: atom, backgroundColor: 'silver', fontColor:'black'});\\n            }\\n        }\\n        \",\"\\n        function(atom,viewer) { \\n            if(atom.label) {\\n                viewer.removeLabel(atom.label);\\n                delete atom.label;\\n            }\\n        }\\n        \");\n\tviewer_17255843338980942.zoomTo();\n\tviewer_17255843338980942.setBackgroundColor(\"white\");\nviewer_17255843338980942.render();\n});\n</script>",
      "text/html": [
       "<div id=\"3dmolviewer_17255843338980942\"  style=\"position: relative; width: 100%; height: 500px;\">\n",
       "        <p id=\"3dmolwarning_17255843338980942\" style=\"background-color:#ffcccc;color:black\">3Dmol.js failed to load for some reason.  Please check your browser console for error messages.<br></p>\n",
       "        </div>\n",
       "<script>\n",
       "\n",
       "var loadScriptAsync = function(uri){\n",
       "  return new Promise((resolve, reject) => {\n",
       "    //this is to ignore the existence of requirejs amd\n",
       "    var savedexports, savedmodule;\n",
       "    if (typeof exports !== 'undefined') savedexports = exports;\n",
       "    else exports = {}\n",
       "    if (typeof module !== 'undefined') savedmodule = module;\n",
       "    else module = {}\n",
       "\n",
       "    var tag = document.createElement('script');\n",
       "    tag.src = uri;\n",
       "    tag.async = true;\n",
       "    tag.onload = () => {\n",
       "        exports = savedexports;\n",
       "        module = savedmodule;\n",
       "        resolve();\n",
       "    };\n",
       "  var firstScriptTag = document.getElementsByTagName('script')[0];\n",
       "  firstScriptTag.parentNode.insertBefore(tag, firstScriptTag);\n",
       "});\n",
       "};\n",
       "\n",
       "if(typeof $3Dmolpromise === 'undefined') {\n",
       "$3Dmolpromise = null;\n",
       "  $3Dmolpromise = loadScriptAsync('https://cdnjs.cloudflare.com/ajax/libs/3Dmol/2.2.0/3Dmol-min.js');\n",
       "}\n",
       "\n",
       "var viewer_17255843338980942 = null;\n",
       "var warn = document.getElementById(\"3dmolwarning_17255843338980942\");\n",
       "if(warn) {\n",
       "    warn.parentNode.removeChild(warn);\n",
       "}\n",
       "$3Dmolpromise.then(function() {\n",
       "viewer_17255843338980942 = $3Dmol.createViewer(document.getElementById(\"3dmolviewer_17255843338980942\"),{backgroundColor:\"white\"});\n",
       "viewer_17255843338980942.zoomTo();\n",
       "\tviewer_17255843338980942.addModel(\"@<TRIPOS>MOLECULE\\nreact_1330\\n57 59 0 0 0\\nSMALL\\nNO_CHARGES\\n\\n@<TRIPOS>ATOM\\n1 None -0.3888 0.6940 1.4743 H\\n2 None 0.1828 0.2505 0.6274 C\\n3 None -0.5852 -0.2660 -0.3044 C\\n4 None -2.1520 -0.2222 -0.1652 B\\n5 None -2.8996 -0.2092 1.0897 O\\n6 None -4.1631 0.2410 0.7220 C\\n7 None -5.1733 -0.7136 1.3531 C\\n8 None -4.9934 -0.6218 2.4630 H\\n9 None -6.2126 -0.4449 1.0989 H\\n10 None -4.9108 -1.7572 1.0982 H\\n11 None -4.3685 1.5915 1.3629 C\\n12 None -5.4474 1.7591 1.4859 H\\n13 None -3.8648 2.3453 0.7130 H\\n14 None -3.8092 1.6153 2.3398 H\\n15 None -4.2313 0.2622 -0.7652 C\\n16 None -4.0995 1.6372 -1.3639 C\\n17 None -4.1399 1.5044 -2.4761 H\\n18 None -4.9042 2.3312 -1.0417 H\\n19 None -3.0783 2.0179 -1.1422 H\\n20 None -5.5443 -0.3334 -1.2233 C\\n21 None -6.3475 0.3080 -0.8275 H\\n22 None -5.6180 -0.3589 -2.3238 H\\n23 None -5.6503 -1.3312 -0.7741 H\\n24 None -3.1429 -0.4870 -1.2016 O\\n25 None -0.0454 -0.8895 -1.4603 N\\n26 None 0.8204 -0.3660 -2.4527 C\\n27 None 0.8870 0.8496 -2.7920 O\\n28 None 1.5312 -1.4604 -2.9258 O\\n29 None 0.8474 -2.6485 -2.6756 C\\n30 None 1.4171 -3.3946 -2.0701 H\\n31 None 0.5386 -3.1664 -3.6233 H\\n32 None -0.3414 -2.2483 -1.8505 C\\n33 None -0.5095 -2.9209 -0.9885 H\\n34 None -1.2743 -2.1698 -2.4835 H\\n35 None 1.6213 0.2773 0.6225 C\\n36 None 2.4276 -0.7450 0.1922 C\\n37 None 2.0016 -1.6848 -0.1923 H\\n38 None 3.8093 -0.6229 0.2314 C\\n39 None 4.6176 -1.6574 -0.2035 O\\n40 None 4.0729 -2.8451 -0.6920 C\\n41 None 4.8359 -3.6626 -0.7640 H\\n42 None 3.6516 -2.7457 -1.7112 H\\n43 None 3.2785 -3.2084 -0.0232 H\\n44 None 4.4007 0.5587 0.7161 C\\n45 None 5.7864 0.6228 0.7312 O\\n46 None 6.5370 0.1886 1.8685 C\\n47 None 6.2428 0.7209 2.7882 H\\n48 None 7.5929 0.3818 1.6446 H\\n49 None 6.4254 -0.9255 1.9940 H\\n50 None 3.5875 1.5751 1.1438 C\\n51 None 4.2194 2.7264 1.6155 O\\n52 None 3.3838 3.7809 2.0596 C\\n53 None 2.6620 3.4078 2.8299 H\\n54 None 2.7474 4.1215 1.2047 H\\n55 None 3.9321 4.6216 2.4972 H\\n56 None 2.2177 1.4490 1.1029 C\\n57 None 1.6195 2.2679 1.4473 H\\n@<TRIPOS>BOND\\n1 2 1 1\\n2 2 3 2\\n3 3 4 1\\n4 4 5 1\\n5 5 6 1\\n6 6 7 1\\n7 7 8 1\\n8 7 9 1\\n9 7 10 1\\n10 6 11 1\\n11 11 12 1\\n12 11 13 1\\n13 11 14 1\\n14 6 15 1\\n15 15 16 1\\n16 16 17 1\\n17 16 18 1\\n18 16 19 1\\n19 15 20 1\\n20 20 21 1\\n21 20 22 1\\n22 20 23 1\\n23 15 24 1\\n24 24 4 1\\n25 3 25 1\\n26 26 25 am\\n27 26 27 2\\n28 28 26 1\\n29 29 28 1\\n30 29 30 1\\n31 29 31 1\\n32 32 29 1\\n33 25 32 1\\n34 32 33 1\\n35 32 34 1\\n36 35 2 1\\n37 36 35 ar\\n38 36 37 1\\n39 38 36 ar\\n40 39 38 1\\n41 40 39 1\\n42 40 41 1\\n43 40 42 1\\n44 40 43 1\\n45 44 38 ar\\n46 44 45 1\\n47 45 46 1\\n48 46 47 1\\n49 46 48 1\\n50 46 49 1\\n51 50 44 ar\\n52 50 51 1\\n53 51 52 1\\n54 52 53 1\\n55 52 54 1\\n56 52 55 1\\n57 56 50 ar\\n58 35 56 ar\\n59 56 57 1\\n\\n\",\"mol2\");\n",
       "\tviewer_17255843338980942.setStyle({\"stick\": {\"radius\": 0.1}, \"sphere\": {\"scale\": 0.15}});\n",
       "\tviewer_17255843338980942.setHoverable({},true,\"\\n        function(atom,viewer,event,container) {\\n            if(!atom.label) {\\n                atom.label = viewer.addLabel(atom.elem + '(' + atom.index + ')', {position: atom, backgroundColor: 'silver', fontColor:'black'});\\n            }\\n        }\\n        \",\"\\n        function(atom,viewer) { \\n            if(atom.label) {\\n                viewer.removeLabel(atom.label);\\n                delete atom.label;\\n            }\\n        }\\n        \");\n",
       "\tviewer_17255843338980942.zoomTo();\n",
       "\tviewer_17255843338980942.setBackgroundColor(\"white\");\n",
       "viewer_17255843338980942.render();\n",
       "});\n",
       "</script>"
      ]
     },
     "metadata": {},
     "output_type": "display_data"
    },
    {
     "data": {
      "application/3dmoljs_load.v0": "<script>\n            $3Dmolpromise.then(function() { //wrap in promise for non-interactive functionality\n                \n                viewer_17255843338980942.render();\n            });\n            </script>",
      "text/html": [
       "<script>\n",
       "            $3Dmolpromise.then(function() { //wrap in promise for non-interactive functionality\n",
       "                \n",
       "                viewer_17255843338980942.render();\n",
       "            });\n",
       "            </script>"
      ]
     },
     "metadata": {},
     "output_type": "display_data"
    },
    {
     "data": {
      "application/3dmoljs_load.v0": "<script>\n            $3Dmolpromise.then(function() { //wrap in promise for non-interactive functionality\n                \tviewer_17255843338980942.setStyle({\"stick\": {\"radius\": 0.1}, \"sphere\": {\"scale\": 0.15}});\n\n                viewer_17255843338980942.render();\n            });\n            </script>",
      "text/html": [
       "<script>\n",
       "            $3Dmolpromise.then(function() { //wrap in promise for non-interactive functionality\n",
       "                \tviewer_17255843338980942.setStyle({\"stick\": {\"radius\": 0.1}, \"sphere\": {\"scale\": 0.15}});\n",
       "\n",
       "                viewer_17255843338980942.render();\n",
       "            });\n",
       "            </script>"
      ]
     },
     "metadata": {},
     "output_type": "display_data"
    },
    {
     "data": {
      "application/3dmoljs_load.v0": "<div id=\"3dmolviewer_1725584333940307\"  style=\"position: relative; width: 100%; height: 500px;\">\n        <p id=\"3dmolwarning_1725584333940307\" style=\"background-color:#ffcccc;color:black\">3Dmol.js failed to load for some reason.  Please check your browser console for error messages.<br></p>\n        </div>\n<script>\n\nvar loadScriptAsync = function(uri){\n  return new Promise((resolve, reject) => {\n    //this is to ignore the existence of requirejs amd\n    var savedexports, savedmodule;\n    if (typeof exports !== 'undefined') savedexports = exports;\n    else exports = {}\n    if (typeof module !== 'undefined') savedmodule = module;\n    else module = {}\n\n    var tag = document.createElement('script');\n    tag.src = uri;\n    tag.async = true;\n    tag.onload = () => {\n        exports = savedexports;\n        module = savedmodule;\n        resolve();\n    };\n  var firstScriptTag = document.getElementsByTagName('script')[0];\n  firstScriptTag.parentNode.insertBefore(tag, firstScriptTag);\n});\n};\n\nif(typeof $3Dmolpromise === 'undefined') {\n$3Dmolpromise = null;\n  $3Dmolpromise = loadScriptAsync('https://cdnjs.cloudflare.com/ajax/libs/3Dmol/2.2.0/3Dmol-min.js');\n}\n\nvar viewer_1725584333940307 = null;\nvar warn = document.getElementById(\"3dmolwarning_1725584333940307\");\nif(warn) {\n    warn.parentNode.removeChild(warn);\n}\n$3Dmolpromise.then(function() {\nviewer_1725584333940307 = $3Dmol.createViewer(document.getElementById(\"3dmolviewer_1725584333940307\"),{backgroundColor:\"white\"});\nviewer_1725584333940307.zoomTo();\n\tviewer_1725584333940307.addModel(\"@<TRIPOS>MOLECULE\\nreact_2396\\n18 17 0 0 0\\nSMALL\\nNO_CHARGES\\n\\n@<TRIPOS>ATOM\\n1 None -2.1925 0.0012 -2.2517 H\\n2 None -1.5528 -0.3103 -1.5770 O\\n3 None -2.1838 -0.0562 -0.4188 C\\n4 None -3.3114 0.4027 -0.4043 O\\n5 None -1.3636 -0.4293 0.7558 C\\n6 None -1.9420 -0.3622 1.9675 C\\n7 None -1.4000 -0.6170 2.8723 H\\n8 None -2.9736 -0.0394 2.0892 H\\n9 None 0.0580 -0.8634 0.5414 C\\n10 None 0.0835 -1.7063 -0.1588 H\\n11 None 0.5129 -1.1956 1.4819 H\\n12 None 0.9129 0.2684 -0.0019 C\\n13 None 0.6286 1.4584 0.0190 O\\n14 None 2.0873 -0.2425 -0.4777 O\\n15 None 2.9768 0.7432 -1.0039 C\\n16 None 3.8700 0.2312 -1.3722 H\\n17 None 2.5114 1.2727 -1.8413 H\\n18 None 3.2781 1.4445 -0.2195 H\\n@<TRIPOS>BOND\\n1 2 1 1\\n2 3 2 1\\n3 3 4 2\\n4 5 3 1\\n5 6 5 2\\n6 6 7 1\\n7 6 8 1\\n8 5 9 1\\n9 9 10 1\\n10 9 11 1\\n11 9 12 1\\n12 12 13 2\\n13 12 14 1\\n14 14 15 1\\n15 15 16 1\\n16 15 17 1\\n17 15 18 1\\n\\n\",\"mol2\");\n\tviewer_1725584333940307.setStyle({\"stick\": {\"radius\": 0.1}, \"sphere\": {\"scale\": 0.15}});\n\tviewer_1725584333940307.setHoverable({},true,\"\\n        function(atom,viewer,event,container) {\\n            if(!atom.label) {\\n                atom.label = viewer.addLabel(atom.elem + '(' + atom.index + ')', {position: atom, backgroundColor: 'silver', fontColor:'black'});\\n            }\\n        }\\n        \",\"\\n        function(atom,viewer) { \\n            if(atom.label) {\\n                viewer.removeLabel(atom.label);\\n                delete atom.label;\\n            }\\n        }\\n        \");\n\tviewer_1725584333940307.zoomTo();\n\tviewer_1725584333940307.setBackgroundColor(\"white\");\nviewer_1725584333940307.render();\n});\n</script>",
      "text/html": [
       "<div id=\"3dmolviewer_1725584333940307\"  style=\"position: relative; width: 100%; height: 500px;\">\n",
       "        <p id=\"3dmolwarning_1725584333940307\" style=\"background-color:#ffcccc;color:black\">3Dmol.js failed to load for some reason.  Please check your browser console for error messages.<br></p>\n",
       "        </div>\n",
       "<script>\n",
       "\n",
       "var loadScriptAsync = function(uri){\n",
       "  return new Promise((resolve, reject) => {\n",
       "    //this is to ignore the existence of requirejs amd\n",
       "    var savedexports, savedmodule;\n",
       "    if (typeof exports !== 'undefined') savedexports = exports;\n",
       "    else exports = {}\n",
       "    if (typeof module !== 'undefined') savedmodule = module;\n",
       "    else module = {}\n",
       "\n",
       "    var tag = document.createElement('script');\n",
       "    tag.src = uri;\n",
       "    tag.async = true;\n",
       "    tag.onload = () => {\n",
       "        exports = savedexports;\n",
       "        module = savedmodule;\n",
       "        resolve();\n",
       "    };\n",
       "  var firstScriptTag = document.getElementsByTagName('script')[0];\n",
       "  firstScriptTag.parentNode.insertBefore(tag, firstScriptTag);\n",
       "});\n",
       "};\n",
       "\n",
       "if(typeof $3Dmolpromise === 'undefined') {\n",
       "$3Dmolpromise = null;\n",
       "  $3Dmolpromise = loadScriptAsync('https://cdnjs.cloudflare.com/ajax/libs/3Dmol/2.2.0/3Dmol-min.js');\n",
       "}\n",
       "\n",
       "var viewer_1725584333940307 = null;\n",
       "var warn = document.getElementById(\"3dmolwarning_1725584333940307\");\n",
       "if(warn) {\n",
       "    warn.parentNode.removeChild(warn);\n",
       "}\n",
       "$3Dmolpromise.then(function() {\n",
       "viewer_1725584333940307 = $3Dmol.createViewer(document.getElementById(\"3dmolviewer_1725584333940307\"),{backgroundColor:\"white\"});\n",
       "viewer_1725584333940307.zoomTo();\n",
       "\tviewer_1725584333940307.addModel(\"@<TRIPOS>MOLECULE\\nreact_2396\\n18 17 0 0 0\\nSMALL\\nNO_CHARGES\\n\\n@<TRIPOS>ATOM\\n1 None -2.1925 0.0012 -2.2517 H\\n2 None -1.5528 -0.3103 -1.5770 O\\n3 None -2.1838 -0.0562 -0.4188 C\\n4 None -3.3114 0.4027 -0.4043 O\\n5 None -1.3636 -0.4293 0.7558 C\\n6 None -1.9420 -0.3622 1.9675 C\\n7 None -1.4000 -0.6170 2.8723 H\\n8 None -2.9736 -0.0394 2.0892 H\\n9 None 0.0580 -0.8634 0.5414 C\\n10 None 0.0835 -1.7063 -0.1588 H\\n11 None 0.5129 -1.1956 1.4819 H\\n12 None 0.9129 0.2684 -0.0019 C\\n13 None 0.6286 1.4584 0.0190 O\\n14 None 2.0873 -0.2425 -0.4777 O\\n15 None 2.9768 0.7432 -1.0039 C\\n16 None 3.8700 0.2312 -1.3722 H\\n17 None 2.5114 1.2727 -1.8413 H\\n18 None 3.2781 1.4445 -0.2195 H\\n@<TRIPOS>BOND\\n1 2 1 1\\n2 3 2 1\\n3 3 4 2\\n4 5 3 1\\n5 6 5 2\\n6 6 7 1\\n7 6 8 1\\n8 5 9 1\\n9 9 10 1\\n10 9 11 1\\n11 9 12 1\\n12 12 13 2\\n13 12 14 1\\n14 14 15 1\\n15 15 16 1\\n16 15 17 1\\n17 15 18 1\\n\\n\",\"mol2\");\n",
       "\tviewer_1725584333940307.setStyle({\"stick\": {\"radius\": 0.1}, \"sphere\": {\"scale\": 0.15}});\n",
       "\tviewer_1725584333940307.setHoverable({},true,\"\\n        function(atom,viewer,event,container) {\\n            if(!atom.label) {\\n                atom.label = viewer.addLabel(atom.elem + '(' + atom.index + ')', {position: atom, backgroundColor: 'silver', fontColor:'black'});\\n            }\\n        }\\n        \",\"\\n        function(atom,viewer) { \\n            if(atom.label) {\\n                viewer.removeLabel(atom.label);\\n                delete atom.label;\\n            }\\n        }\\n        \");\n",
       "\tviewer_1725584333940307.zoomTo();\n",
       "\tviewer_1725584333940307.setBackgroundColor(\"white\");\n",
       "viewer_1725584333940307.render();\n",
       "});\n",
       "</script>"
      ]
     },
     "metadata": {},
     "output_type": "display_data"
    },
    {
     "data": {
      "application/3dmoljs_load.v0": "<script>\n            $3Dmolpromise.then(function() { //wrap in promise for non-interactive functionality\n                \n                viewer_1725584333940307.render();\n            });\n            </script>",
      "text/html": [
       "<script>\n",
       "            $3Dmolpromise.then(function() { //wrap in promise for non-interactive functionality\n",
       "                \n",
       "                viewer_1725584333940307.render();\n",
       "            });\n",
       "            </script>"
      ]
     },
     "metadata": {},
     "output_type": "display_data"
    },
    {
     "data": {
      "application/3dmoljs_load.v0": "<script>\n            $3Dmolpromise.then(function() { //wrap in promise for non-interactive functionality\n                \tviewer_1725584333940307.setStyle({\"stick\": {\"radius\": 0.1}, \"sphere\": {\"scale\": 0.15}});\n\n                viewer_1725584333940307.render();\n            });\n            </script>",
      "text/html": [
       "<script>\n",
       "            $3Dmolpromise.then(function() { //wrap in promise for non-interactive functionality\n",
       "                \tviewer_1725584333940307.setStyle({\"stick\": {\"radius\": 0.1}, \"sphere\": {\"scale\": 0.15}});\n",
       "\n",
       "                viewer_1725584333940307.render();\n",
       "            });\n",
       "            </script>"
      ]
     },
     "metadata": {},
     "output_type": "display_data"
    },
    {
     "data": {
      "application/3dmoljs_load.v0": "<div id=\"3dmolviewer_1725584333984713\"  style=\"position: relative; width: 100%; height: 500px;\">\n        <p id=\"3dmolwarning_1725584333984713\" style=\"background-color:#ffcccc;color:black\">3Dmol.js failed to load for some reason.  Please check your browser console for error messages.<br></p>\n        </div>\n<script>\n\nvar loadScriptAsync = function(uri){\n  return new Promise((resolve, reject) => {\n    //this is to ignore the existence of requirejs amd\n    var savedexports, savedmodule;\n    if (typeof exports !== 'undefined') savedexports = exports;\n    else exports = {}\n    if (typeof module !== 'undefined') savedmodule = module;\n    else module = {}\n\n    var tag = document.createElement('script');\n    tag.src = uri;\n    tag.async = true;\n    tag.onload = () => {\n        exports = savedexports;\n        module = savedmodule;\n        resolve();\n    };\n  var firstScriptTag = document.getElementsByTagName('script')[0];\n  firstScriptTag.parentNode.insertBefore(tag, firstScriptTag);\n});\n};\n\nif(typeof $3Dmolpromise === 'undefined') {\n$3Dmolpromise = null;\n  $3Dmolpromise = loadScriptAsync('https://cdnjs.cloudflare.com/ajax/libs/3Dmol/2.2.0/3Dmol-min.js');\n}\n\nvar viewer_1725584333984713 = null;\nvar warn = document.getElementById(\"3dmolwarning_1725584333984713\");\nif(warn) {\n    warn.parentNode.removeChild(warn);\n}\n$3Dmolpromise.then(function() {\nviewer_1725584333984713 = $3Dmol.createViewer(document.getElementById(\"3dmolviewer_1725584333984713\"),{backgroundColor:\"white\"});\nviewer_1725584333984713.zoomTo();\n\tviewer_1725584333984713.addModel(\"@<TRIPOS>MOLECULE\\nreact_1319\\n32 33 0 0 0\\nSMALL\\nNO_CHARGES\\n\\n@<TRIPOS>ATOM\\n1 None 4.4424 1.8224 -1.1411 H\\n2 None 4.2943 2.1000 -0.2229 O\\n3 None 4.1807 0.9193 0.5584 C\\n4 None 4.4396 1.1813 1.5889 H\\n5 None 4.9178 0.1877 0.2104 H\\n6 None 2.7930 0.3716 0.4466 C\\n7 None 1.9955 0.2014 1.5174 C\\n8 None 2.4520 0.5592 2.7399 F\\n9 None 0.6198 -0.4100 1.4307 C\\n10 None -0.1042 0.4047 1.5455 H\\n11 None 0.4996 -1.0867 2.2848 H\\n12 None 0.4018 -1.1664 0.1888 N\\n13 None -0.9375 -1.7572 0.0900 C\\n14 None -1.0898 -2.4359 0.9403 H\\n15 None -0.9688 -2.4211 -0.7848 H\\n16 None -2.1106 -0.8031 0.0121 C\\n17 None -2.5539 -0.3114 -1.2249 C\\n18 None -2.0569 -0.6129 -2.1441 H\\n19 None -3.6362 0.5676 -1.2949 C\\n20 None -3.9690 0.9437 -2.2588 H\\n21 None -4.2910 0.9623 -0.1303 C\\n22 None -5.1333 1.6469 -0.1851 H\\n23 None -3.8668 0.4765 1.1046 C\\n24 None -4.3789 0.7820 2.0134 H\\n25 None -2.7848 -0.4027 1.1759 C\\n26 None -2.4689 -0.7746 2.1482 H\\n27 None 0.7976 -0.3692 -0.9735 C\\n28 None 0.2296 0.5690 -1.0219 H\\n29 None 0.6024 -0.9176 -1.9031 H\\n30 None 2.3048 -0.0448 -0.9225 C\\n31 None 2.8758 -0.9284 -1.2351 H\\n32 None 2.5038 0.7464 -1.6541 H\\n@<TRIPOS>BOND\\n1 2 1 1\\n2 2 3 1\\n3 3 4 1\\n4 3 5 1\\n5 3 6 1\\n6 6 7 2\\n7 7 8 1\\n8 7 9 1\\n9 9 10 1\\n10 9 11 1\\n11 9 12 1\\n12 12 13 1\\n13 13 14 1\\n14 13 15 1\\n15 13 16 1\\n16 16 17 ar\\n17 17 18 1\\n18 17 19 ar\\n19 19 20 1\\n20 19 21 ar\\n21 21 22 1\\n22 21 23 ar\\n23 23 24 1\\n24 23 25 ar\\n25 25 16 ar\\n26 25 26 1\\n27 12 27 1\\n28 27 28 1\\n29 27 29 1\\n30 27 30 1\\n31 30 6 1\\n32 30 31 1\\n33 30 32 1\\n\\n\",\"mol2\");\n\tviewer_1725584333984713.setStyle({\"stick\": {\"radius\": 0.1}, \"sphere\": {\"scale\": 0.15}});\n\tviewer_1725584333984713.setHoverable({},true,\"\\n        function(atom,viewer,event,container) {\\n            if(!atom.label) {\\n                atom.label = viewer.addLabel(atom.elem + '(' + atom.index + ')', {position: atom, backgroundColor: 'silver', fontColor:'black'});\\n            }\\n        }\\n        \",\"\\n        function(atom,viewer) { \\n            if(atom.label) {\\n                viewer.removeLabel(atom.label);\\n                delete atom.label;\\n            }\\n        }\\n        \");\n\tviewer_1725584333984713.zoomTo();\n\tviewer_1725584333984713.setBackgroundColor(\"white\");\nviewer_1725584333984713.render();\n});\n</script>",
      "text/html": [
       "<div id=\"3dmolviewer_1725584333984713\"  style=\"position: relative; width: 100%; height: 500px;\">\n",
       "        <p id=\"3dmolwarning_1725584333984713\" style=\"background-color:#ffcccc;color:black\">3Dmol.js failed to load for some reason.  Please check your browser console for error messages.<br></p>\n",
       "        </div>\n",
       "<script>\n",
       "\n",
       "var loadScriptAsync = function(uri){\n",
       "  return new Promise((resolve, reject) => {\n",
       "    //this is to ignore the existence of requirejs amd\n",
       "    var savedexports, savedmodule;\n",
       "    if (typeof exports !== 'undefined') savedexports = exports;\n",
       "    else exports = {}\n",
       "    if (typeof module !== 'undefined') savedmodule = module;\n",
       "    else module = {}\n",
       "\n",
       "    var tag = document.createElement('script');\n",
       "    tag.src = uri;\n",
       "    tag.async = true;\n",
       "    tag.onload = () => {\n",
       "        exports = savedexports;\n",
       "        module = savedmodule;\n",
       "        resolve();\n",
       "    };\n",
       "  var firstScriptTag = document.getElementsByTagName('script')[0];\n",
       "  firstScriptTag.parentNode.insertBefore(tag, firstScriptTag);\n",
       "});\n",
       "};\n",
       "\n",
       "if(typeof $3Dmolpromise === 'undefined') {\n",
       "$3Dmolpromise = null;\n",
       "  $3Dmolpromise = loadScriptAsync('https://cdnjs.cloudflare.com/ajax/libs/3Dmol/2.2.0/3Dmol-min.js');\n",
       "}\n",
       "\n",
       "var viewer_1725584333984713 = null;\n",
       "var warn = document.getElementById(\"3dmolwarning_1725584333984713\");\n",
       "if(warn) {\n",
       "    warn.parentNode.removeChild(warn);\n",
       "}\n",
       "$3Dmolpromise.then(function() {\n",
       "viewer_1725584333984713 = $3Dmol.createViewer(document.getElementById(\"3dmolviewer_1725584333984713\"),{backgroundColor:\"white\"});\n",
       "viewer_1725584333984713.zoomTo();\n",
       "\tviewer_1725584333984713.addModel(\"@<TRIPOS>MOLECULE\\nreact_1319\\n32 33 0 0 0\\nSMALL\\nNO_CHARGES\\n\\n@<TRIPOS>ATOM\\n1 None 4.4424 1.8224 -1.1411 H\\n2 None 4.2943 2.1000 -0.2229 O\\n3 None 4.1807 0.9193 0.5584 C\\n4 None 4.4396 1.1813 1.5889 H\\n5 None 4.9178 0.1877 0.2104 H\\n6 None 2.7930 0.3716 0.4466 C\\n7 None 1.9955 0.2014 1.5174 C\\n8 None 2.4520 0.5592 2.7399 F\\n9 None 0.6198 -0.4100 1.4307 C\\n10 None -0.1042 0.4047 1.5455 H\\n11 None 0.4996 -1.0867 2.2848 H\\n12 None 0.4018 -1.1664 0.1888 N\\n13 None -0.9375 -1.7572 0.0900 C\\n14 None -1.0898 -2.4359 0.9403 H\\n15 None -0.9688 -2.4211 -0.7848 H\\n16 None -2.1106 -0.8031 0.0121 C\\n17 None -2.5539 -0.3114 -1.2249 C\\n18 None -2.0569 -0.6129 -2.1441 H\\n19 None -3.6362 0.5676 -1.2949 C\\n20 None -3.9690 0.9437 -2.2588 H\\n21 None -4.2910 0.9623 -0.1303 C\\n22 None -5.1333 1.6469 -0.1851 H\\n23 None -3.8668 0.4765 1.1046 C\\n24 None -4.3789 0.7820 2.0134 H\\n25 None -2.7848 -0.4027 1.1759 C\\n26 None -2.4689 -0.7746 2.1482 H\\n27 None 0.7976 -0.3692 -0.9735 C\\n28 None 0.2296 0.5690 -1.0219 H\\n29 None 0.6024 -0.9176 -1.9031 H\\n30 None 2.3048 -0.0448 -0.9225 C\\n31 None 2.8758 -0.9284 -1.2351 H\\n32 None 2.5038 0.7464 -1.6541 H\\n@<TRIPOS>BOND\\n1 2 1 1\\n2 2 3 1\\n3 3 4 1\\n4 3 5 1\\n5 3 6 1\\n6 6 7 2\\n7 7 8 1\\n8 7 9 1\\n9 9 10 1\\n10 9 11 1\\n11 9 12 1\\n12 12 13 1\\n13 13 14 1\\n14 13 15 1\\n15 13 16 1\\n16 16 17 ar\\n17 17 18 1\\n18 17 19 ar\\n19 19 20 1\\n20 19 21 ar\\n21 21 22 1\\n22 21 23 ar\\n23 23 24 1\\n24 23 25 ar\\n25 25 16 ar\\n26 25 26 1\\n27 12 27 1\\n28 27 28 1\\n29 27 29 1\\n30 27 30 1\\n31 30 6 1\\n32 30 31 1\\n33 30 32 1\\n\\n\",\"mol2\");\n",
       "\tviewer_1725584333984713.setStyle({\"stick\": {\"radius\": 0.1}, \"sphere\": {\"scale\": 0.15}});\n",
       "\tviewer_1725584333984713.setHoverable({},true,\"\\n        function(atom,viewer,event,container) {\\n            if(!atom.label) {\\n                atom.label = viewer.addLabel(atom.elem + '(' + atom.index + ')', {position: atom, backgroundColor: 'silver', fontColor:'black'});\\n            }\\n        }\\n        \",\"\\n        function(atom,viewer) { \\n            if(atom.label) {\\n                viewer.removeLabel(atom.label);\\n                delete atom.label;\\n            }\\n        }\\n        \");\n",
       "\tviewer_1725584333984713.zoomTo();\n",
       "\tviewer_1725584333984713.setBackgroundColor(\"white\");\n",
       "viewer_1725584333984713.render();\n",
       "});\n",
       "</script>"
      ]
     },
     "metadata": {},
     "output_type": "display_data"
    },
    {
     "data": {
      "application/3dmoljs_load.v0": "<script>\n            $3Dmolpromise.then(function() { //wrap in promise for non-interactive functionality\n                \n                viewer_1725584333984713.render();\n            });\n            </script>",
      "text/html": [
       "<script>\n",
       "            $3Dmolpromise.then(function() { //wrap in promise for non-interactive functionality\n",
       "                \n",
       "                viewer_1725584333984713.render();\n",
       "            });\n",
       "            </script>"
      ]
     },
     "metadata": {},
     "output_type": "display_data"
    },
    {
     "data": {
      "application/3dmoljs_load.v0": "<script>\n            $3Dmolpromise.then(function() { //wrap in promise for non-interactive functionality\n                \tviewer_1725584333984713.setStyle({\"stick\": {\"radius\": 0.1}, \"sphere\": {\"scale\": 0.15}});\n\n                viewer_1725584333984713.render();\n            });\n            </script>",
      "text/html": [
       "<script>\n",
       "            $3Dmolpromise.then(function() { //wrap in promise for non-interactive functionality\n",
       "                \tviewer_1725584333984713.setStyle({\"stick\": {\"radius\": 0.1}, \"sphere\": {\"scale\": 0.15}});\n",
       "\n",
       "                viewer_1725584333984713.render();\n",
       "            });\n",
       "            </script>"
      ]
     },
     "metadata": {},
     "output_type": "display_data"
    },
    {
     "data": {
      "application/3dmoljs_load.v0": "<div id=\"3dmolviewer_1725584333989911\"  style=\"position: relative; width: 100%; height: 500px;\">\n        <p id=\"3dmolwarning_1725584333989911\" style=\"background-color:#ffcccc;color:black\">3Dmol.js failed to load for some reason.  Please check your browser console for error messages.<br></p>\n        </div>\n<script>\n\nvar loadScriptAsync = function(uri){\n  return new Promise((resolve, reject) => {\n    //this is to ignore the existence of requirejs amd\n    var savedexports, savedmodule;\n    if (typeof exports !== 'undefined') savedexports = exports;\n    else exports = {}\n    if (typeof module !== 'undefined') savedmodule = module;\n    else module = {}\n\n    var tag = document.createElement('script');\n    tag.src = uri;\n    tag.async = true;\n    tag.onload = () => {\n        exports = savedexports;\n        module = savedmodule;\n        resolve();\n    };\n  var firstScriptTag = document.getElementsByTagName('script')[0];\n  firstScriptTag.parentNode.insertBefore(tag, firstScriptTag);\n});\n};\n\nif(typeof $3Dmolpromise === 'undefined') {\n$3Dmolpromise = null;\n  $3Dmolpromise = loadScriptAsync('https://cdnjs.cloudflare.com/ajax/libs/3Dmol/2.2.0/3Dmol-min.js');\n}\n\nvar viewer_1725584333989911 = null;\nvar warn = document.getElementById(\"3dmolwarning_1725584333989911\");\nif(warn) {\n    warn.parentNode.removeChild(warn);\n}\n$3Dmolpromise.then(function() {\nviewer_1725584333989911 = $3Dmol.createViewer(document.getElementById(\"3dmolviewer_1725584333989911\"),{backgroundColor:\"white\"});\nviewer_1725584333989911.zoomTo();\n\tviewer_1725584333989911.addModel(\"@<TRIPOS>MOLECULE\\nreact_1046\\n34 33 0 0 0\\nSMALL\\nNO_CHARGES\\n\\n@<TRIPOS>ATOM\\n1 None 0.5962 -1.3012 0.1546 H\\n2 None 0.3653 -0.3604 -0.3495 C\\n3 None -0.8477 -0.2352 -0.9198 C\\n4 None -1.7301 -1.4432 -0.8139 C\\n5 None -2.0084 -1.9999 0.2386 O\\n6 None -2.0470 -1.8693 -2.0655 O\\n7 None -2.9192 -2.9969 -2.0784 C\\n8 None -3.2138 -3.1855 -3.1145 H\\n9 None -3.8243 -2.7992 -1.4948 H\\n10 None -2.3984 -3.8821 -1.7005 H\\n11 None -1.2517 0.9101 -1.5758 N\\n12 None -0.5749 1.6544 -1.6659 H\\n13 None -2.5421 1.1906 -1.9888 C\\n14 None -3.5316 0.4959 -1.7895 O\\n15 None -2.6376 2.5111 -2.7080 C\\n16 None -3.6425 2.6292 -3.1254 H\\n17 None -1.9137 2.5471 -3.5275 H\\n18 None -2.4458 3.3273 -2.0058 H\\n19 None 1.4807 0.6452 -0.3107 C\\n20 None 1.4060 1.3452 -1.1499 H\\n21 None 2.4288 0.1175 -0.4676 H\\n22 None 1.5314 1.4457 0.9944 C\\n23 None 2.3593 2.1629 0.9290 H\\n24 None 0.6144 2.0429 1.0836 H\\n25 None 1.6930 0.6212 2.2772 C\\n26 None 1.6829 1.3148 3.1277 H\\n27 None 0.8289 -0.0402 2.4105 H\\n28 None 2.9837 -0.1971 2.3188 C\\n29 None 3.8462 0.4574 2.1494 H\\n30 None 2.9833 -0.9507 1.5241 H\\n31 None 3.1479 -0.9029 3.6561 C\\n32 None 2.3153 -1.5893 3.8422 H\\n33 None 3.1900 -0.1817 4.4787 H\\n34 None 4.0754 -1.4836 3.6668 H\\n@<TRIPOS>BOND\\n1 2 1 1\\n2 2 3 2\\n3 3 4 1\\n4 4 5 2\\n5 4 6 1\\n6 6 7 1\\n7 7 8 1\\n8 7 9 1\\n9 7 10 1\\n10 3 11 1\\n11 11 12 1\\n12 11 13 am\\n13 13 14 2\\n14 13 15 1\\n15 15 16 1\\n16 15 17 1\\n17 15 18 1\\n18 19 2 1\\n19 19 20 1\\n20 19 21 1\\n21 22 19 1\\n22 22 23 1\\n23 22 24 1\\n24 25 22 1\\n25 25 26 1\\n26 25 27 1\\n27 28 25 1\\n28 28 29 1\\n29 28 30 1\\n30 31 28 1\\n31 31 32 1\\n32 31 33 1\\n33 31 34 1\\n\\n\",\"mol2\");\n\tviewer_1725584333989911.setStyle({\"stick\": {\"radius\": 0.1}, \"sphere\": {\"scale\": 0.15}});\n\tviewer_1725584333989911.setHoverable({},true,\"\\n        function(atom,viewer,event,container) {\\n            if(!atom.label) {\\n                atom.label = viewer.addLabel(atom.elem + '(' + atom.index + ')', {position: atom, backgroundColor: 'silver', fontColor:'black'});\\n            }\\n        }\\n        \",\"\\n        function(atom,viewer) { \\n            if(atom.label) {\\n                viewer.removeLabel(atom.label);\\n                delete atom.label;\\n            }\\n        }\\n        \");\n\tviewer_1725584333989911.zoomTo();\n\tviewer_1725584333989911.setBackgroundColor(\"white\");\nviewer_1725584333989911.render();\n});\n</script>",
      "text/html": [
       "<div id=\"3dmolviewer_1725584333989911\"  style=\"position: relative; width: 100%; height: 500px;\">\n",
       "        <p id=\"3dmolwarning_1725584333989911\" style=\"background-color:#ffcccc;color:black\">3Dmol.js failed to load for some reason.  Please check your browser console for error messages.<br></p>\n",
       "        </div>\n",
       "<script>\n",
       "\n",
       "var loadScriptAsync = function(uri){\n",
       "  return new Promise((resolve, reject) => {\n",
       "    //this is to ignore the existence of requirejs amd\n",
       "    var savedexports, savedmodule;\n",
       "    if (typeof exports !== 'undefined') savedexports = exports;\n",
       "    else exports = {}\n",
       "    if (typeof module !== 'undefined') savedmodule = module;\n",
       "    else module = {}\n",
       "\n",
       "    var tag = document.createElement('script');\n",
       "    tag.src = uri;\n",
       "    tag.async = true;\n",
       "    tag.onload = () => {\n",
       "        exports = savedexports;\n",
       "        module = savedmodule;\n",
       "        resolve();\n",
       "    };\n",
       "  var firstScriptTag = document.getElementsByTagName('script')[0];\n",
       "  firstScriptTag.parentNode.insertBefore(tag, firstScriptTag);\n",
       "});\n",
       "};\n",
       "\n",
       "if(typeof $3Dmolpromise === 'undefined') {\n",
       "$3Dmolpromise = null;\n",
       "  $3Dmolpromise = loadScriptAsync('https://cdnjs.cloudflare.com/ajax/libs/3Dmol/2.2.0/3Dmol-min.js');\n",
       "}\n",
       "\n",
       "var viewer_1725584333989911 = null;\n",
       "var warn = document.getElementById(\"3dmolwarning_1725584333989911\");\n",
       "if(warn) {\n",
       "    warn.parentNode.removeChild(warn);\n",
       "}\n",
       "$3Dmolpromise.then(function() {\n",
       "viewer_1725584333989911 = $3Dmol.createViewer(document.getElementById(\"3dmolviewer_1725584333989911\"),{backgroundColor:\"white\"});\n",
       "viewer_1725584333989911.zoomTo();\n",
       "\tviewer_1725584333989911.addModel(\"@<TRIPOS>MOLECULE\\nreact_1046\\n34 33 0 0 0\\nSMALL\\nNO_CHARGES\\n\\n@<TRIPOS>ATOM\\n1 None 0.5962 -1.3012 0.1546 H\\n2 None 0.3653 -0.3604 -0.3495 C\\n3 None -0.8477 -0.2352 -0.9198 C\\n4 None -1.7301 -1.4432 -0.8139 C\\n5 None -2.0084 -1.9999 0.2386 O\\n6 None -2.0470 -1.8693 -2.0655 O\\n7 None -2.9192 -2.9969 -2.0784 C\\n8 None -3.2138 -3.1855 -3.1145 H\\n9 None -3.8243 -2.7992 -1.4948 H\\n10 None -2.3984 -3.8821 -1.7005 H\\n11 None -1.2517 0.9101 -1.5758 N\\n12 None -0.5749 1.6544 -1.6659 H\\n13 None -2.5421 1.1906 -1.9888 C\\n14 None -3.5316 0.4959 -1.7895 O\\n15 None -2.6376 2.5111 -2.7080 C\\n16 None -3.6425 2.6292 -3.1254 H\\n17 None -1.9137 2.5471 -3.5275 H\\n18 None -2.4458 3.3273 -2.0058 H\\n19 None 1.4807 0.6452 -0.3107 C\\n20 None 1.4060 1.3452 -1.1499 H\\n21 None 2.4288 0.1175 -0.4676 H\\n22 None 1.5314 1.4457 0.9944 C\\n23 None 2.3593 2.1629 0.9290 H\\n24 None 0.6144 2.0429 1.0836 H\\n25 None 1.6930 0.6212 2.2772 C\\n26 None 1.6829 1.3148 3.1277 H\\n27 None 0.8289 -0.0402 2.4105 H\\n28 None 2.9837 -0.1971 2.3188 C\\n29 None 3.8462 0.4574 2.1494 H\\n30 None 2.9833 -0.9507 1.5241 H\\n31 None 3.1479 -0.9029 3.6561 C\\n32 None 2.3153 -1.5893 3.8422 H\\n33 None 3.1900 -0.1817 4.4787 H\\n34 None 4.0754 -1.4836 3.6668 H\\n@<TRIPOS>BOND\\n1 2 1 1\\n2 2 3 2\\n3 3 4 1\\n4 4 5 2\\n5 4 6 1\\n6 6 7 1\\n7 7 8 1\\n8 7 9 1\\n9 7 10 1\\n10 3 11 1\\n11 11 12 1\\n12 11 13 am\\n13 13 14 2\\n14 13 15 1\\n15 15 16 1\\n16 15 17 1\\n17 15 18 1\\n18 19 2 1\\n19 19 20 1\\n20 19 21 1\\n21 22 19 1\\n22 22 23 1\\n23 22 24 1\\n24 25 22 1\\n25 25 26 1\\n26 25 27 1\\n27 28 25 1\\n28 28 29 1\\n29 28 30 1\\n30 31 28 1\\n31 31 32 1\\n32 31 33 1\\n33 31 34 1\\n\\n\",\"mol2\");\n",
       "\tviewer_1725584333989911.setStyle({\"stick\": {\"radius\": 0.1}, \"sphere\": {\"scale\": 0.15}});\n",
       "\tviewer_1725584333989911.setHoverable({},true,\"\\n        function(atom,viewer,event,container) {\\n            if(!atom.label) {\\n                atom.label = viewer.addLabel(atom.elem + '(' + atom.index + ')', {position: atom, backgroundColor: 'silver', fontColor:'black'});\\n            }\\n        }\\n        \",\"\\n        function(atom,viewer) { \\n            if(atom.label) {\\n                viewer.removeLabel(atom.label);\\n                delete atom.label;\\n            }\\n        }\\n        \");\n",
       "\tviewer_1725584333989911.zoomTo();\n",
       "\tviewer_1725584333989911.setBackgroundColor(\"white\");\n",
       "viewer_1725584333989911.render();\n",
       "});\n",
       "</script>"
      ]
     },
     "metadata": {},
     "output_type": "display_data"
    },
    {
     "data": {
      "application/3dmoljs_load.v0": "<script>\n            $3Dmolpromise.then(function() { //wrap in promise for non-interactive functionality\n                \n                viewer_1725584333989911.render();\n            });\n            </script>",
      "text/html": [
       "<script>\n",
       "            $3Dmolpromise.then(function() { //wrap in promise for non-interactive functionality\n",
       "                \n",
       "                viewer_1725584333989911.render();\n",
       "            });\n",
       "            </script>"
      ]
     },
     "metadata": {},
     "output_type": "display_data"
    },
    {
     "data": {
      "application/3dmoljs_load.v0": "<script>\n            $3Dmolpromise.then(function() { //wrap in promise for non-interactive functionality\n                \tviewer_1725584333989911.setStyle({\"stick\": {\"radius\": 0.1}, \"sphere\": {\"scale\": 0.15}});\n\n                viewer_1725584333989911.render();\n            });\n            </script>",
      "text/html": [
       "<script>\n",
       "            $3Dmolpromise.then(function() { //wrap in promise for non-interactive functionality\n",
       "                \tviewer_1725584333989911.setStyle({\"stick\": {\"radius\": 0.1}, \"sphere\": {\"scale\": 0.15}});\n",
       "\n",
       "                viewer_1725584333989911.render();\n",
       "            });\n",
       "            </script>"
      ]
     },
     "metadata": {},
     "output_type": "display_data"
    },
    {
     "data": {
      "application/3dmoljs_load.v0": "<div id=\"3dmolviewer_172558433401423\"  style=\"position: relative; width: 100%; height: 500px;\">\n        <p id=\"3dmolwarning_172558433401423\" style=\"background-color:#ffcccc;color:black\">3Dmol.js failed to load for some reason.  Please check your browser console for error messages.<br></p>\n        </div>\n<script>\n\nvar loadScriptAsync = function(uri){\n  return new Promise((resolve, reject) => {\n    //this is to ignore the existence of requirejs amd\n    var savedexports, savedmodule;\n    if (typeof exports !== 'undefined') savedexports = exports;\n    else exports = {}\n    if (typeof module !== 'undefined') savedmodule = module;\n    else module = {}\n\n    var tag = document.createElement('script');\n    tag.src = uri;\n    tag.async = true;\n    tag.onload = () => {\n        exports = savedexports;\n        module = savedmodule;\n        resolve();\n    };\n  var firstScriptTag = document.getElementsByTagName('script')[0];\n  firstScriptTag.parentNode.insertBefore(tag, firstScriptTag);\n});\n};\n\nif(typeof $3Dmolpromise === 'undefined') {\n$3Dmolpromise = null;\n  $3Dmolpromise = loadScriptAsync('https://cdnjs.cloudflare.com/ajax/libs/3Dmol/2.2.0/3Dmol-min.js');\n}\n\nvar viewer_172558433401423 = null;\nvar warn = document.getElementById(\"3dmolwarning_172558433401423\");\nif(warn) {\n    warn.parentNode.removeChild(warn);\n}\n$3Dmolpromise.then(function() {\nviewer_172558433401423 = $3Dmol.createViewer(document.getElementById(\"3dmolviewer_172558433401423\"),{backgroundColor:\"white\"});\nviewer_172558433401423.zoomTo();\n\tviewer_172558433401423.addModel(\"@<TRIPOS>MOLECULE\\nreact_1457\\n40 40 0 0 0\\nSMALL\\nNO_CHARGES\\n\\n@<TRIPOS>ATOM\\n1 None -0.0140 0.5550 -2.4248 H\\n2 None 0.1964 0.2796 -1.3960 C\\n3 None -0.8234 0.2522 -0.5195 C\\n4 None -2.1555 0.6025 -1.0406 C\\n5 None -2.5836 1.9368 -1.0536 C\\n6 None -1.9565 2.7179 -0.6327 H\\n7 None -3.8278 2.2716 -1.5917 C\\n8 None -4.1602 3.3061 -1.5874 H\\n9 None -4.6487 1.2777 -2.1235 C\\n10 None -5.6205 1.5383 -2.5345 H\\n11 None -4.2293 -0.0521 -2.1166 C\\n12 None -4.8736 -0.8277 -2.5216 H\\n13 None -2.9857 -0.3898 -1.5790 C\\n14 None -2.6716 -1.4304 -1.5710 H\\n15 None -0.6356 -0.0922 0.8019 N\\n16 None 0.3177 -0.3111 1.0802 H\\n17 None -1.5806 -0.1476 1.8134 C\\n18 None -2.7700 0.1323 1.7270 O\\n19 None -0.9803 -0.5744 3.1300 C\\n20 None -1.7622 -1.0026 3.7636 H\\n21 None -0.2103 -1.3369 2.9805 H\\n22 None -0.5445 0.2957 3.6278 H\\n23 None 1.8668 -0.0982 -1.0966 P\\n24 None 2.9772 0.3322 -2.0128 O\\n25 None 2.1506 0.3884 0.4296 O\\n26 None 2.5199 1.7489 0.6008 C\\n27 None 3.5395 1.8910 0.2299 H\\n28 None 1.8413 2.3938 0.0334 H\\n29 None 2.4468 2.0861 2.0753 C\\n30 None 1.4320 1.9304 2.4561 H\\n31 None 3.1075 1.4323 2.6541 H\\n32 None 2.7343 3.1260 2.2528 H\\n33 None 1.8768 -1.7024 -0.8652 O\\n34 None 3.1406 -2.3219 -0.6921 C\\n35 None 3.7166 -1.7874 0.0699 H\\n36 None 3.6884 -2.2914 -1.6390 H\\n37 None 2.9202 -3.7579 -0.2641 C\\n38 None 3.8738 -4.2743 -0.1234 H\\n39 None 2.3548 -3.7980 0.6729 H\\n40 None 2.3327 -4.2983 -1.0137 H\\n@<TRIPOS>BOND\\n1 2 1 1\\n2 2 3 2\\n3 3 4 1\\n4 4 5 ar\\n5 5 6 1\\n6 5 7 ar\\n7 7 8 1\\n8 7 9 ar\\n9 9 10 1\\n10 9 11 ar\\n11 11 12 1\\n12 11 13 ar\\n13 13 4 ar\\n14 13 14 1\\n15 3 15 1\\n16 15 16 1\\n17 15 17 am\\n18 17 18 2\\n19 17 19 1\\n20 19 20 1\\n21 19 21 1\\n22 19 22 1\\n23 23 2 1\\n24 23 24 2\\n25 25 23 1\\n26 26 25 1\\n27 26 27 1\\n28 26 28 1\\n29 29 26 1\\n30 29 30 1\\n31 29 31 1\\n32 29 32 1\\n33 23 33 1\\n34 33 34 1\\n35 34 35 1\\n36 34 36 1\\n37 34 37 1\\n38 37 38 1\\n39 37 39 1\\n40 37 40 1\\n\\n\",\"mol2\");\n\tviewer_172558433401423.setStyle({\"stick\": {\"radius\": 0.1}, \"sphere\": {\"scale\": 0.15}});\n\tviewer_172558433401423.setHoverable({},true,\"\\n        function(atom,viewer,event,container) {\\n            if(!atom.label) {\\n                atom.label = viewer.addLabel(atom.elem + '(' + atom.index + ')', {position: atom, backgroundColor: 'silver', fontColor:'black'});\\n            }\\n        }\\n        \",\"\\n        function(atom,viewer) { \\n            if(atom.label) {\\n                viewer.removeLabel(atom.label);\\n                delete atom.label;\\n            }\\n        }\\n        \");\n\tviewer_172558433401423.zoomTo();\n\tviewer_172558433401423.setBackgroundColor(\"white\");\nviewer_172558433401423.render();\n});\n</script>",
      "text/html": [
       "<div id=\"3dmolviewer_172558433401423\"  style=\"position: relative; width: 100%; height: 500px;\">\n",
       "        <p id=\"3dmolwarning_172558433401423\" style=\"background-color:#ffcccc;color:black\">3Dmol.js failed to load for some reason.  Please check your browser console for error messages.<br></p>\n",
       "        </div>\n",
       "<script>\n",
       "\n",
       "var loadScriptAsync = function(uri){\n",
       "  return new Promise((resolve, reject) => {\n",
       "    //this is to ignore the existence of requirejs amd\n",
       "    var savedexports, savedmodule;\n",
       "    if (typeof exports !== 'undefined') savedexports = exports;\n",
       "    else exports = {}\n",
       "    if (typeof module !== 'undefined') savedmodule = module;\n",
       "    else module = {}\n",
       "\n",
       "    var tag = document.createElement('script');\n",
       "    tag.src = uri;\n",
       "    tag.async = true;\n",
       "    tag.onload = () => {\n",
       "        exports = savedexports;\n",
       "        module = savedmodule;\n",
       "        resolve();\n",
       "    };\n",
       "  var firstScriptTag = document.getElementsByTagName('script')[0];\n",
       "  firstScriptTag.parentNode.insertBefore(tag, firstScriptTag);\n",
       "});\n",
       "};\n",
       "\n",
       "if(typeof $3Dmolpromise === 'undefined') {\n",
       "$3Dmolpromise = null;\n",
       "  $3Dmolpromise = loadScriptAsync('https://cdnjs.cloudflare.com/ajax/libs/3Dmol/2.2.0/3Dmol-min.js');\n",
       "}\n",
       "\n",
       "var viewer_172558433401423 = null;\n",
       "var warn = document.getElementById(\"3dmolwarning_172558433401423\");\n",
       "if(warn) {\n",
       "    warn.parentNode.removeChild(warn);\n",
       "}\n",
       "$3Dmolpromise.then(function() {\n",
       "viewer_172558433401423 = $3Dmol.createViewer(document.getElementById(\"3dmolviewer_172558433401423\"),{backgroundColor:\"white\"});\n",
       "viewer_172558433401423.zoomTo();\n",
       "\tviewer_172558433401423.addModel(\"@<TRIPOS>MOLECULE\\nreact_1457\\n40 40 0 0 0\\nSMALL\\nNO_CHARGES\\n\\n@<TRIPOS>ATOM\\n1 None -0.0140 0.5550 -2.4248 H\\n2 None 0.1964 0.2796 -1.3960 C\\n3 None -0.8234 0.2522 -0.5195 C\\n4 None -2.1555 0.6025 -1.0406 C\\n5 None -2.5836 1.9368 -1.0536 C\\n6 None -1.9565 2.7179 -0.6327 H\\n7 None -3.8278 2.2716 -1.5917 C\\n8 None -4.1602 3.3061 -1.5874 H\\n9 None -4.6487 1.2777 -2.1235 C\\n10 None -5.6205 1.5383 -2.5345 H\\n11 None -4.2293 -0.0521 -2.1166 C\\n12 None -4.8736 -0.8277 -2.5216 H\\n13 None -2.9857 -0.3898 -1.5790 C\\n14 None -2.6716 -1.4304 -1.5710 H\\n15 None -0.6356 -0.0922 0.8019 N\\n16 None 0.3177 -0.3111 1.0802 H\\n17 None -1.5806 -0.1476 1.8134 C\\n18 None -2.7700 0.1323 1.7270 O\\n19 None -0.9803 -0.5744 3.1300 C\\n20 None -1.7622 -1.0026 3.7636 H\\n21 None -0.2103 -1.3369 2.9805 H\\n22 None -0.5445 0.2957 3.6278 H\\n23 None 1.8668 -0.0982 -1.0966 P\\n24 None 2.9772 0.3322 -2.0128 O\\n25 None 2.1506 0.3884 0.4296 O\\n26 None 2.5199 1.7489 0.6008 C\\n27 None 3.5395 1.8910 0.2299 H\\n28 None 1.8413 2.3938 0.0334 H\\n29 None 2.4468 2.0861 2.0753 C\\n30 None 1.4320 1.9304 2.4561 H\\n31 None 3.1075 1.4323 2.6541 H\\n32 None 2.7343 3.1260 2.2528 H\\n33 None 1.8768 -1.7024 -0.8652 O\\n34 None 3.1406 -2.3219 -0.6921 C\\n35 None 3.7166 -1.7874 0.0699 H\\n36 None 3.6884 -2.2914 -1.6390 H\\n37 None 2.9202 -3.7579 -0.2641 C\\n38 None 3.8738 -4.2743 -0.1234 H\\n39 None 2.3548 -3.7980 0.6729 H\\n40 None 2.3327 -4.2983 -1.0137 H\\n@<TRIPOS>BOND\\n1 2 1 1\\n2 2 3 2\\n3 3 4 1\\n4 4 5 ar\\n5 5 6 1\\n6 5 7 ar\\n7 7 8 1\\n8 7 9 ar\\n9 9 10 1\\n10 9 11 ar\\n11 11 12 1\\n12 11 13 ar\\n13 13 4 ar\\n14 13 14 1\\n15 3 15 1\\n16 15 16 1\\n17 15 17 am\\n18 17 18 2\\n19 17 19 1\\n20 19 20 1\\n21 19 21 1\\n22 19 22 1\\n23 23 2 1\\n24 23 24 2\\n25 25 23 1\\n26 26 25 1\\n27 26 27 1\\n28 26 28 1\\n29 29 26 1\\n30 29 30 1\\n31 29 31 1\\n32 29 32 1\\n33 23 33 1\\n34 33 34 1\\n35 34 35 1\\n36 34 36 1\\n37 34 37 1\\n38 37 38 1\\n39 37 39 1\\n40 37 40 1\\n\\n\",\"mol2\");\n",
       "\tviewer_172558433401423.setStyle({\"stick\": {\"radius\": 0.1}, \"sphere\": {\"scale\": 0.15}});\n",
       "\tviewer_172558433401423.setHoverable({},true,\"\\n        function(atom,viewer,event,container) {\\n            if(!atom.label) {\\n                atom.label = viewer.addLabel(atom.elem + '(' + atom.index + ')', {position: atom, backgroundColor: 'silver', fontColor:'black'});\\n            }\\n        }\\n        \",\"\\n        function(atom,viewer) { \\n            if(atom.label) {\\n                viewer.removeLabel(atom.label);\\n                delete atom.label;\\n            }\\n        }\\n        \");\n",
       "\tviewer_172558433401423.zoomTo();\n",
       "\tviewer_172558433401423.setBackgroundColor(\"white\");\n",
       "viewer_172558433401423.render();\n",
       "});\n",
       "</script>"
      ]
     },
     "metadata": {},
     "output_type": "display_data"
    },
    {
     "data": {
      "application/3dmoljs_load.v0": "<script>\n            $3Dmolpromise.then(function() { //wrap in promise for non-interactive functionality\n                \n                viewer_172558433401423.render();\n            });\n            </script>",
      "text/html": [
       "<script>\n",
       "            $3Dmolpromise.then(function() { //wrap in promise for non-interactive functionality\n",
       "                \n",
       "                viewer_172558433401423.render();\n",
       "            });\n",
       "            </script>"
      ]
     },
     "metadata": {},
     "output_type": "display_data"
    },
    {
     "data": {
      "application/3dmoljs_load.v0": "<script>\n            $3Dmolpromise.then(function() { //wrap in promise for non-interactive functionality\n                \tviewer_172558433401423.setStyle({\"stick\": {\"radius\": 0.1}, \"sphere\": {\"scale\": 0.15}});\n\n                viewer_172558433401423.render();\n            });\n            </script>",
      "text/html": [
       "<script>\n",
       "            $3Dmolpromise.then(function() { //wrap in promise for non-interactive functionality\n",
       "                \tviewer_172558433401423.setStyle({\"stick\": {\"radius\": 0.1}, \"sphere\": {\"scale\": 0.15}});\n",
       "\n",
       "                viewer_172558433401423.render();\n",
       "            });\n",
       "            </script>"
      ]
     },
     "metadata": {},
     "output_type": "display_data"
    },
    {
     "data": {
      "application/3dmoljs_load.v0": "<div id=\"3dmolviewer_1725584334144784\"  style=\"position: relative; width: 100%; height: 500px;\">\n        <p id=\"3dmolwarning_1725584334144784\" style=\"background-color:#ffcccc;color:black\">3Dmol.js failed to load for some reason.  Please check your browser console for error messages.<br></p>\n        </div>\n<script>\n\nvar loadScriptAsync = function(uri){\n  return new Promise((resolve, reject) => {\n    //this is to ignore the existence of requirejs amd\n    var savedexports, savedmodule;\n    if (typeof exports !== 'undefined') savedexports = exports;\n    else exports = {}\n    if (typeof module !== 'undefined') savedmodule = module;\n    else module = {}\n\n    var tag = document.createElement('script');\n    tag.src = uri;\n    tag.async = true;\n    tag.onload = () => {\n        exports = savedexports;\n        module = savedmodule;\n        resolve();\n    };\n  var firstScriptTag = document.getElementsByTagName('script')[0];\n  firstScriptTag.parentNode.insertBefore(tag, firstScriptTag);\n});\n};\n\nif(typeof $3Dmolpromise === 'undefined') {\n$3Dmolpromise = null;\n  $3Dmolpromise = loadScriptAsync('https://cdnjs.cloudflare.com/ajax/libs/3Dmol/2.2.0/3Dmol-min.js');\n}\n\nvar viewer_1725584334144784 = null;\nvar warn = document.getElementById(\"3dmolwarning_1725584334144784\");\nif(warn) {\n    warn.parentNode.removeChild(warn);\n}\n$3Dmolpromise.then(function() {\nviewer_1725584334144784 = $3Dmol.createViewer(document.getElementById(\"3dmolviewer_1725584334144784\"),{backgroundColor:\"white\"});\nviewer_1725584334144784.zoomTo();\n\tviewer_1725584334144784.addModel(\"@<TRIPOS>MOLECULE\\nreact_656\\n34 35 0 0 0\\nSMALL\\nNO_CHARGES\\n\\n@<TRIPOS>ATOM\\n1 None -0.5979 -0.7690 1.1109 H\\n2 None -0.7033 -0.6995 0.0328 C\\n3 None -2.0413 -0.2703 -0.4626 C\\n4 None -2.3116 -0.2141 -1.6565 O\\n5 None -3.0815 0.0821 0.5423 C\\n6 None -4.4225 -0.1454 0.2033 C\\n7 None -4.6778 -0.5720 -0.7652 H\\n8 None -5.4409 0.1706 1.1040 C\\n9 None -6.4786 -0.0129 0.8360 H\\n10 None -5.1265 0.7250 2.3434 C\\n11 None -5.9203 0.9732 3.0441 H\\n12 None -3.7961 0.9720 2.6807 C\\n13 None -3.5562 1.4180 3.6433 H\\n14 None -2.7730 0.6572 1.7821 C\\n15 None -1.7505 0.8913 2.0640 H\\n16 None 0.3378 -1.0018 -0.7683 C\\n17 None 0.3336 -1.0448 -2.2655 C\\n18 None -0.5502 -1.5619 -2.6507 H\\n19 None 0.3699 -0.0317 -2.6779 H\\n20 None 1.1930 -1.5964 -2.6596 H\\n21 None 1.8347 -1.4466 0.0333 S\\n22 None 1.7767 -1.0905 1.4409 O\\n23 None 2.1873 -2.7974 -0.3620 O\\n24 None 3.0245 -0.3404 -0.7015 C\\n25 None 2.9965 1.0151 -0.3567 C\\n26 None 2.2668 1.3961 0.3537 H\\n27 None 3.9259 1.8852 -0.9255 C\\n28 None 3.9144 2.9411 -0.6656 H\\n29 None 4.8788 1.4001 -1.8232 C\\n30 None 5.6047 2.0805 -2.2628 H\\n31 None 4.9113 0.0434 -2.1514 C\\n32 None 5.6626 -0.3297 -2.8436 H\\n33 None 3.9860 -0.8346 -1.5874 C\\n34 None 4.0237 -1.8916 -1.8420 H\\n@<TRIPOS>BOND\\n1 2 1 1\\n2 2 3 1\\n3 3 4 2\\n4 3 5 1\\n5 5 6 ar\\n6 6 7 1\\n7 6 8 ar\\n8 8 9 1\\n9 8 10 ar\\n10 10 11 1\\n11 10 12 ar\\n12 12 13 1\\n13 12 14 ar\\n14 14 5 ar\\n15 14 15 1\\n16 16 2 2\\n17 17 16 1\\n18 17 18 1\\n19 17 19 1\\n20 17 20 1\\n21 16 21 1\\n22 21 22 2\\n23 21 23 2\\n24 21 24 1\\n25 24 25 ar\\n26 25 26 1\\n27 25 27 ar\\n28 27 28 1\\n29 27 29 ar\\n30 29 30 1\\n31 29 31 ar\\n32 31 32 1\\n33 31 33 ar\\n34 33 24 ar\\n35 33 34 1\\n\\n\",\"mol2\");\n\tviewer_1725584334144784.setStyle({\"stick\": {\"radius\": 0.1}, \"sphere\": {\"scale\": 0.15}});\n\tviewer_1725584334144784.setHoverable({},true,\"\\n        function(atom,viewer,event,container) {\\n            if(!atom.label) {\\n                atom.label = viewer.addLabel(atom.elem + '(' + atom.index + ')', {position: atom, backgroundColor: 'silver', fontColor:'black'});\\n            }\\n        }\\n        \",\"\\n        function(atom,viewer) { \\n            if(atom.label) {\\n                viewer.removeLabel(atom.label);\\n                delete atom.label;\\n            }\\n        }\\n        \");\n\tviewer_1725584334144784.zoomTo();\n\tviewer_1725584334144784.setBackgroundColor(\"white\");\nviewer_1725584334144784.render();\n});\n</script>",
      "text/html": [
       "<div id=\"3dmolviewer_1725584334144784\"  style=\"position: relative; width: 100%; height: 500px;\">\n",
       "        <p id=\"3dmolwarning_1725584334144784\" style=\"background-color:#ffcccc;color:black\">3Dmol.js failed to load for some reason.  Please check your browser console for error messages.<br></p>\n",
       "        </div>\n",
       "<script>\n",
       "\n",
       "var loadScriptAsync = function(uri){\n",
       "  return new Promise((resolve, reject) => {\n",
       "    //this is to ignore the existence of requirejs amd\n",
       "    var savedexports, savedmodule;\n",
       "    if (typeof exports !== 'undefined') savedexports = exports;\n",
       "    else exports = {}\n",
       "    if (typeof module !== 'undefined') savedmodule = module;\n",
       "    else module = {}\n",
       "\n",
       "    var tag = document.createElement('script');\n",
       "    tag.src = uri;\n",
       "    tag.async = true;\n",
       "    tag.onload = () => {\n",
       "        exports = savedexports;\n",
       "        module = savedmodule;\n",
       "        resolve();\n",
       "    };\n",
       "  var firstScriptTag = document.getElementsByTagName('script')[0];\n",
       "  firstScriptTag.parentNode.insertBefore(tag, firstScriptTag);\n",
       "});\n",
       "};\n",
       "\n",
       "if(typeof $3Dmolpromise === 'undefined') {\n",
       "$3Dmolpromise = null;\n",
       "  $3Dmolpromise = loadScriptAsync('https://cdnjs.cloudflare.com/ajax/libs/3Dmol/2.2.0/3Dmol-min.js');\n",
       "}\n",
       "\n",
       "var viewer_1725584334144784 = null;\n",
       "var warn = document.getElementById(\"3dmolwarning_1725584334144784\");\n",
       "if(warn) {\n",
       "    warn.parentNode.removeChild(warn);\n",
       "}\n",
       "$3Dmolpromise.then(function() {\n",
       "viewer_1725584334144784 = $3Dmol.createViewer(document.getElementById(\"3dmolviewer_1725584334144784\"),{backgroundColor:\"white\"});\n",
       "viewer_1725584334144784.zoomTo();\n",
       "\tviewer_1725584334144784.addModel(\"@<TRIPOS>MOLECULE\\nreact_656\\n34 35 0 0 0\\nSMALL\\nNO_CHARGES\\n\\n@<TRIPOS>ATOM\\n1 None -0.5979 -0.7690 1.1109 H\\n2 None -0.7033 -0.6995 0.0328 C\\n3 None -2.0413 -0.2703 -0.4626 C\\n4 None -2.3116 -0.2141 -1.6565 O\\n5 None -3.0815 0.0821 0.5423 C\\n6 None -4.4225 -0.1454 0.2033 C\\n7 None -4.6778 -0.5720 -0.7652 H\\n8 None -5.4409 0.1706 1.1040 C\\n9 None -6.4786 -0.0129 0.8360 H\\n10 None -5.1265 0.7250 2.3434 C\\n11 None -5.9203 0.9732 3.0441 H\\n12 None -3.7961 0.9720 2.6807 C\\n13 None -3.5562 1.4180 3.6433 H\\n14 None -2.7730 0.6572 1.7821 C\\n15 None -1.7505 0.8913 2.0640 H\\n16 None 0.3378 -1.0018 -0.7683 C\\n17 None 0.3336 -1.0448 -2.2655 C\\n18 None -0.5502 -1.5619 -2.6507 H\\n19 None 0.3699 -0.0317 -2.6779 H\\n20 None 1.1930 -1.5964 -2.6596 H\\n21 None 1.8347 -1.4466 0.0333 S\\n22 None 1.7767 -1.0905 1.4409 O\\n23 None 2.1873 -2.7974 -0.3620 O\\n24 None 3.0245 -0.3404 -0.7015 C\\n25 None 2.9965 1.0151 -0.3567 C\\n26 None 2.2668 1.3961 0.3537 H\\n27 None 3.9259 1.8852 -0.9255 C\\n28 None 3.9144 2.9411 -0.6656 H\\n29 None 4.8788 1.4001 -1.8232 C\\n30 None 5.6047 2.0805 -2.2628 H\\n31 None 4.9113 0.0434 -2.1514 C\\n32 None 5.6626 -0.3297 -2.8436 H\\n33 None 3.9860 -0.8346 -1.5874 C\\n34 None 4.0237 -1.8916 -1.8420 H\\n@<TRIPOS>BOND\\n1 2 1 1\\n2 2 3 1\\n3 3 4 2\\n4 3 5 1\\n5 5 6 ar\\n6 6 7 1\\n7 6 8 ar\\n8 8 9 1\\n9 8 10 ar\\n10 10 11 1\\n11 10 12 ar\\n12 12 13 1\\n13 12 14 ar\\n14 14 5 ar\\n15 14 15 1\\n16 16 2 2\\n17 17 16 1\\n18 17 18 1\\n19 17 19 1\\n20 17 20 1\\n21 16 21 1\\n22 21 22 2\\n23 21 23 2\\n24 21 24 1\\n25 24 25 ar\\n26 25 26 1\\n27 25 27 ar\\n28 27 28 1\\n29 27 29 ar\\n30 29 30 1\\n31 29 31 ar\\n32 31 32 1\\n33 31 33 ar\\n34 33 24 ar\\n35 33 34 1\\n\\n\",\"mol2\");\n",
       "\tviewer_1725584334144784.setStyle({\"stick\": {\"radius\": 0.1}, \"sphere\": {\"scale\": 0.15}});\n",
       "\tviewer_1725584334144784.setHoverable({},true,\"\\n        function(atom,viewer,event,container) {\\n            if(!atom.label) {\\n                atom.label = viewer.addLabel(atom.elem + '(' + atom.index + ')', {position: atom, backgroundColor: 'silver', fontColor:'black'});\\n            }\\n        }\\n        \",\"\\n        function(atom,viewer) { \\n            if(atom.label) {\\n                viewer.removeLabel(atom.label);\\n                delete atom.label;\\n            }\\n        }\\n        \");\n",
       "\tviewer_1725584334144784.zoomTo();\n",
       "\tviewer_1725584334144784.setBackgroundColor(\"white\");\n",
       "viewer_1725584334144784.render();\n",
       "});\n",
       "</script>"
      ]
     },
     "metadata": {},
     "output_type": "display_data"
    },
    {
     "data": {
      "application/3dmoljs_load.v0": "<script>\n            $3Dmolpromise.then(function() { //wrap in promise for non-interactive functionality\n                \n                viewer_1725584334144784.render();\n            });\n            </script>",
      "text/html": [
       "<script>\n",
       "            $3Dmolpromise.then(function() { //wrap in promise for non-interactive functionality\n",
       "                \n",
       "                viewer_1725584334144784.render();\n",
       "            });\n",
       "            </script>"
      ]
     },
     "metadata": {},
     "output_type": "display_data"
    },
    {
     "data": {
      "application/3dmoljs_load.v0": "<script>\n            $3Dmolpromise.then(function() { //wrap in promise for non-interactive functionality\n                \tviewer_1725584334144784.setStyle({\"stick\": {\"radius\": 0.1}, \"sphere\": {\"scale\": 0.15}});\n\n                viewer_1725584334144784.render();\n            });\n            </script>",
      "text/html": [
       "<script>\n",
       "            $3Dmolpromise.then(function() { //wrap in promise for non-interactive functionality\n",
       "                \tviewer_1725584334144784.setStyle({\"stick\": {\"radius\": 0.1}, \"sphere\": {\"scale\": 0.15}});\n",
       "\n",
       "                viewer_1725584334144784.render();\n",
       "            });\n",
       "            </script>"
      ]
     },
     "metadata": {},
     "output_type": "display_data"
    }
   ],
   "source": [
    "import molli as ml\n",
    "ml.visual.configure(bgcolor='white')\n",
    "\n",
    "%mlib_view 4_DB_OPT_Sterimol.mlib react_1435\n",
    "%mlib_view 4_DB_OPT_Sterimol.mlib react_723\n",
    "%mlib_view 4_DB_OPT_Sterimol.mlib react_854\n",
    "%mlib_view 4_DB_OPT_Sterimol.mlib react_636\n",
    "%mlib_view 4_DB_OPT_Sterimol.mlib react_1330\n",
    "%mlib_view 4_DB_OPT_Sterimol.mlib react_2396\n",
    "%mlib_view 4_DB_OPT_Sterimol.mlib react_1319\n",
    "%mlib_view 4_DB_OPT_Sterimol.mlib react_1046\n",
    "%mlib_view 4_DB_OPT_Sterimol.mlib react_1457\n",
    "%mlib_view 4_DB_OPT_Sterimol.mlib react_656\n"
   ]
  },
  {
   "cell_type": "markdown",
   "metadata": {},
   "source": [
    "%mlib_view 4_DB_OPT_Sterimol.mlib react_32\n",
    "%mlib_view 4_DB_OPT_Sterimol.mlib react_1328"
   ]
  },
  {
   "cell_type": "code",
   "execution_count": 4,
   "metadata": {},
   "outputs": [
    {
     "name": "stdout",
     "output_type": "stream",
     "text": [
      "      Rxn ID Reactant ID\n",
      "147     2494  react_2027\n",
      "1063   11759   react_638\n",
      "1329   12001  react_2051\n",
      "1464   12229  react_1742\n",
      "1909   10869   react_474\n"
     ]
    },
    {
     "data": {
      "image/png": "[encoded data removed]",
      "text/plain": [
       "<IPython.core.display.Image object>"
      ]
     },
     "metadata": {},
     "output_type": "display_data"
    }
   ],
   "source": [
    "import pandas as pd\n",
    "from molli.external.rdkit import to_rdmol\n",
    "from rdkit.Chem import Draw\n",
    "from IPython.display import display  # For displaying the image in a Jupyter notebook\n",
    "\n",
    "# Load the original dataset\n",
    "file_path = '/Users/zhangjiayi/Desktop/Chem Research/molli/Practice/machine_learning/reordered_final_merged_cleaned_qqm_molecule_charges.xlsx'\n",
    "df = pd.read_excel(file_path)\n",
    "\n",
    "# List of Reaction IDs to filter\n",
    "# reaction_ids = [8700,12039,10853,11661,4970]\n",
    "\n",
    "reaction_ids = [2494,11759,12229,12001,10869,11759]\n",
    "\n",
    "# Filter the DataFrame to get rows with the specified Reaction IDs\n",
    "filtered_df = df[df['Rxn ID'].isin(reaction_ids)]\n",
    "\n",
    "# Extract the Reactant IDs corresponding to those Reaction IDs\n",
    "reactant_ids = filtered_df[['Rxn ID', 'Reactant ID']]\n",
    "\n",
    "print(reactant_ids)\n",
    "\n",
    "\n",
    "# %mlib_view 4_DB_OPT_Sterimol.mlib react_892\n",
    "# %mlib_view 4_DB_OPT_Sterimol.mlib react_222\n",
    "# %mlib_view 4_DB_OPT_Sterimol.mlib react_1488\n",
    "# %mlib_view 4_DB_OPT_Sterimol.mlib react_2051\n",
    "\n",
    "\n",
    "# reactant_ids = ['react_892', 'react_222', 'react_853', 'react_1822', 'react_2215','react_2473','react_1432']\n",
    "reactant_ids = ['react_2027','react_638','react_474','react_2051']\n",
    "# Load, convert, and store the RDKit molecules\n",
    "mols = []\n",
    "mlib = ml.MoleculeLibrary('4_DB_OPT_Sterimol.mlib')\n",
    "with mlib.reading():\n",
    "    for reactant_id in reactant_ids:\n",
    "        mol = mlib[reactant_id]\n",
    "        rdmol = to_rdmol(mol)\n",
    "        mols.append(rdmol)\n",
    "\n",
    "# Visualize the molecules in a grid\n",
    "img = Draw.MolsToGridImage(mols, molsPerRow=3, subImgSize=(300, 300), legends=reactant_ids)\n",
    "display(img)"
   ]
  },
  {
   "cell_type": "code",
   "execution_count": 5,
   "metadata": {},
   "outputs": [
    {
     "name": "stdout",
     "output_type": "stream",
     "text": [
      "CC1=CS(=O)(=O)c2ccccc21\n",
      "N/C(=C\\C(=O)N1CCn2c(nnc2C(F)(F)F)C1)Cc1cc(F)c(F)cc1F\n",
      "CC(=O)N/C(=C\\S(C)(=O)=O)c1ccccc1\n",
      "CCOC(=O)/C=C(/c1ccccc1)[Si](C)(c1ccccc1)c1ccccc1\n",
      "[<rdkit.Chem.rdchem.Mol object at 0x1668833e0>, <rdkit.Chem.rdchem.Mol object at 0x166d04040>, <rdkit.Chem.rdchem.Mol object at 0x166d040b0>, <rdkit.Chem.rdchem.Mol object at 0x166d04120>]\n"
     ]
    },
    {
     "data": {
      "image/png": "[encoded data removed]",
      "text/plain": [
       "<IPython.core.display.Image object>"
      ]
     },
     "metadata": {},
     "output_type": "display_data"
    }
   ],
   "source": [
    "import pandas as pd\n",
    "from rdkit import Chem\n",
    "from rdkit.Chem import Draw\n",
    "from IPython.display import display\n",
    "\n",
    "# Load the Excel file\n",
    "file_path = '/Users/zhangjiayi/Desktop/Chem Research/molli/Practice/alkene/fixed_react_map_aho_dataset.xlsx'\n",
    "df = pd.read_excel(file_path)\n",
    "\n",
    "# List of reactant IDs to filter\n",
    "reactant_ids = ['react_2027', 'react_638', 'react_474', 'react_2051']\n",
    "\n",
    "# Filter the DataFrame to get rows with the specified Reactant IDs\n",
    "filtered_df = df[df['Reactant ID'].isin(reactant_ids)]\n",
    "\n",
    "# Extract unique SMILES strings corresponding to the reactant IDs\n",
    "unique_smiles_df = filtered_df[['Reactant ID', 'Reactant SMILES']].drop_duplicates(subset='Reactant SMILES')\n",
    "\n",
    "# Convert SMILES strings to RDKit Mol objects, filtering out any invalid ones\n",
    "mols = []\n",
    "valid_legends = []\n",
    "for index, row in unique_smiles_df.iterrows():\n",
    "    mol = Chem.MolFromSmiles(row['Reactant SMILES'])\n",
    "    print(row['Reactant SMILES'])\n",
    "    if mol is not None:  # Only add if the SMILES was valid\n",
    "        mols.append(mol)\n",
    "        valid_legends.append(row['Reactant ID'])\n",
    "\n",
    "# Visualize the molecules in a grid\n",
    "print(mols)\n",
    "if mols:  # Ensure there are molecules to display\n",
    "    img = Draw.MolsToGridImage(mols, molsPerRow=2, subImgSize=(300, 300), legends=valid_legends)\n",
    "    display(img)\n",
    "else:\n",
    "    print(\"No valid molecules to display.\")\n"
   ]
  },
  {
   "cell_type": "markdown",
   "metadata": {},
   "source": []
  },
  {
   "cell_type": "code",
   "execution_count": 6,
   "metadata": {},
   "outputs": [
    {
     "ename": "AttributeError",
     "evalue": "module 'molli' has no attribute 'to_rdmol'",
     "output_type": "error",
     "traceback": [
      "\u001b[0;31m---------------------------------------------------------------------------\u001b[0m",
      "\u001b[0;31mAttributeError\u001b[0m                            Traceback (most recent call last)",
      "Cell \u001b[0;32mIn[6], line 24\u001b[0m\n\u001b[1;32m     21\u001b[0m molecule_ids \u001b[38;5;241m=\u001b[39m [\u001b[38;5;124m'\u001b[39m\u001b[38;5;124mreact_892\u001b[39m\u001b[38;5;124m'\u001b[39m, \u001b[38;5;124m'\u001b[39m\u001b[38;5;124mreact_222\u001b[39m\u001b[38;5;124m'\u001b[39m]\n\u001b[1;32m     23\u001b[0m \u001b[38;5;66;03m# Load and convert the molecules\u001b[39;00m\n\u001b[0;32m---> 24\u001b[0m mols \u001b[38;5;241m=\u001b[39m \u001b[43m[\u001b[49m\u001b[43mload_and_convert_to_rdmol\u001b[49m\u001b[43m(\u001b[49m\u001b[43mmlib\u001b[49m\u001b[43m,\u001b[49m\u001b[43m \u001b[49m\u001b[43mmol_id\u001b[49m\u001b[43m)\u001b[49m\u001b[43m \u001b[49m\u001b[38;5;28;43;01mfor\u001b[39;49;00m\u001b[43m \u001b[49m\u001b[43mmol_id\u001b[49m\u001b[43m \u001b[49m\u001b[38;5;129;43;01min\u001b[39;49;00m\u001b[43m \u001b[49m\u001b[43mmolecule_ids\u001b[49m\u001b[43m]\u001b[49m\n\u001b[1;32m     26\u001b[0m \u001b[38;5;66;03m# Visualize the molecules\u001b[39;00m\n\u001b[1;32m     27\u001b[0m img \u001b[38;5;241m=\u001b[39m Draw\u001b[38;5;241m.\u001b[39mMolsToGridImage(mols, molsPerRow\u001b[38;5;241m=\u001b[39m\u001b[38;5;241m2\u001b[39m, subImgSize\u001b[38;5;241m=\u001b[39m(\u001b[38;5;241m300\u001b[39m, \u001b[38;5;241m300\u001b[39m), legends\u001b[38;5;241m=\u001b[39mmolecule_ids)\n",
      "Cell \u001b[0;32mIn[6], line 24\u001b[0m, in \u001b[0;36m<listcomp>\u001b[0;34m(.0)\u001b[0m\n\u001b[1;32m     21\u001b[0m molecule_ids \u001b[38;5;241m=\u001b[39m [\u001b[38;5;124m'\u001b[39m\u001b[38;5;124mreact_892\u001b[39m\u001b[38;5;124m'\u001b[39m, \u001b[38;5;124m'\u001b[39m\u001b[38;5;124mreact_222\u001b[39m\u001b[38;5;124m'\u001b[39m]\n\u001b[1;32m     23\u001b[0m \u001b[38;5;66;03m# Load and convert the molecules\u001b[39;00m\n\u001b[0;32m---> 24\u001b[0m mols \u001b[38;5;241m=\u001b[39m [\u001b[43mload_and_convert_to_rdmol\u001b[49m\u001b[43m(\u001b[49m\u001b[43mmlib\u001b[49m\u001b[43m,\u001b[49m\u001b[43m \u001b[49m\u001b[43mmol_id\u001b[49m\u001b[43m)\u001b[49m \u001b[38;5;28;01mfor\u001b[39;00m mol_id \u001b[38;5;129;01min\u001b[39;00m molecule_ids]\n\u001b[1;32m     26\u001b[0m \u001b[38;5;66;03m# Visualize the molecules\u001b[39;00m\n\u001b[1;32m     27\u001b[0m img \u001b[38;5;241m=\u001b[39m Draw\u001b[38;5;241m.\u001b[39mMolsToGridImage(mols, molsPerRow\u001b[38;5;241m=\u001b[39m\u001b[38;5;241m2\u001b[39m, subImgSize\u001b[38;5;241m=\u001b[39m(\u001b[38;5;241m300\u001b[39m, \u001b[38;5;241m300\u001b[39m), legends\u001b[38;5;241m=\u001b[39mmolecule_ids)\n",
      "Cell \u001b[0;32mIn[6], line 10\u001b[0m, in \u001b[0;36mload_and_convert_to_rdmol\u001b[0;34m(mlib, molecule_id)\u001b[0m\n\u001b[1;32m      7\u001b[0m \u001b[38;5;28;01mwith\u001b[39;00m mlib\u001b[38;5;241m.\u001b[39mreading():\n\u001b[1;32m      8\u001b[0m     mol \u001b[38;5;241m=\u001b[39m mlib[molecule_id]\n\u001b[0;32m---> 10\u001b[0m rdmol \u001b[38;5;241m=\u001b[39m \u001b[43mml\u001b[49m\u001b[38;5;241;43m.\u001b[39;49m\u001b[43mto_rdmol\u001b[49m(mol)\n\u001b[1;32m     11\u001b[0m \u001b[38;5;28;01mreturn\u001b[39;00m rdmol\n",
      "\u001b[0;31mAttributeError\u001b[0m: module 'molli' has no attribute 'to_rdmol'"
     ]
    }
   ],
   "source": [
    "import molli as ml\n",
    "from rdkit.Chem import Draw\n",
    "import molli.external.rdkit\n",
    "\n",
    "# Define a function to load and convert a molecule from the library\n",
    "def load_and_convert_to_rdmol(mlib, molecule_id):\n",
    "    with mlib.reading():\n",
    "        mol = mlib[molecule_id]\n",
    "\n",
    "    rdmol = ml.to_rdmol(mol)\n",
    "    return rdmol\n",
    "\n",
    "# List of molecule IDs to load and visualize\n",
    "# Path to the molecule library\n",
    "library_path = '4_DB_OPT_Sterimol.mlib'\n",
    "\n",
    "# Load the molecule library\n",
    "mlib = ml.MoleculeLibrary(library_path)\n",
    "\n",
    "# List of molecule IDs to load and visualize\n",
    "molecule_ids = ['react_892', 'react_222']\n",
    "\n",
    "# Load and convert the molecules\n",
    "mols = [load_and_convert_to_rdmol(mlib, mol_id) for mol_id in molecule_ids]\n",
    "\n",
    "# Visualize the molecules\n",
    "img = Draw.MolsToGridImage(mols, molsPerRow=2, subImgSize=(300, 300), legends=molecule_ids)\n",
    "img.show()\n"
   ]
  }
 ],
 "metadata": {
  "kernelspec": {
   "display_name": "molli-test",
   "language": "python",
   "name": "python3"
  },
  "language_info": {
   "codemirror_mode": {
    "name": "ipython",
    "version": 3
   },
   "file_extension": ".py",
   "mimetype": "text/x-python",
   "name": "python",
   "nbconvert_exporter": "python",
   "pygments_lexer": "ipython3",
   "version": "3.11.9"
  }
 },
 "nbformat": 4,
 "nbformat_minor": 2
}
